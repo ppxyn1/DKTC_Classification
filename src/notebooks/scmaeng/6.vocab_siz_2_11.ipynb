{
 "cells": [
  {
   "cell_type": "code",
   "execution_count": 1,
   "metadata": {},
   "outputs": [],
   "source": [
    "import pandas as pd\n",
    "import numpy as np\n",
    "import tensorflow as tf\n",
    "import re\n",
    "import tensorflow_datasets as tfds"
   ]
  },
  {
   "cell_type": "markdown",
   "metadata": {},
   "source": [
    "# 데이터 불러오기"
   ]
  },
  {
   "cell_type": "code",
   "execution_count": 2,
   "metadata": {},
   "outputs": [],
   "source": [
    "# train, test 데이터 불러오기\n",
    "\n",
    "train_path = './data/train.csv' # 필요에 따라 변경하세요.\n",
    "test_path = './data/test.csv' # 필요에 따라 변경하세요.\n",
    "train_normal_data_path = './data/일반대화 합성데이터(GPT-4o, AIhub 참고).csv'\n",
    "\n",
    "def load_data(file_path):\n",
    "    df = pd.read_csv(file_path)\n",
    "    \n",
    "    return df\n",
    "\n",
    "train_df = load_data(train_path)\n",
    "test_df = load_data(test_path)\n",
    "normal_df = load_data(train_normal_data_path)"
   ]
  },
  {
   "cell_type": "code",
   "execution_count": 3,
   "metadata": {},
   "outputs": [
    {
     "data": {
      "text/plain": [
       "((3950, 3), (500, 2), (1000, 3))"
      ]
     },
     "execution_count": 3,
     "metadata": {},
     "output_type": "execute_result"
    }
   ],
   "source": [
    "# 데이터 확인\n",
    "train_df.shape, test_df.shape, normal_df.shape"
   ]
  },
  {
   "cell_type": "code",
   "execution_count": 4,
   "metadata": {},
   "outputs": [
    {
     "data": {
      "text/html": [
       "<div>\n",
       "<style scoped>\n",
       "    .dataframe tbody tr th:only-of-type {\n",
       "        vertical-align: middle;\n",
       "    }\n",
       "\n",
       "    .dataframe tbody tr th {\n",
       "        vertical-align: top;\n",
       "    }\n",
       "\n",
       "    .dataframe thead th {\n",
       "        text-align: right;\n",
       "    }\n",
       "</style>\n",
       "<table border=\"1\" class=\"dataframe\">\n",
       "  <thead>\n",
       "    <tr style=\"text-align: right;\">\n",
       "      <th></th>\n",
       "      <th>index</th>\n",
       "      <th>class</th>\n",
       "      <th>conversation</th>\n",
       "    </tr>\n",
       "  </thead>\n",
       "  <tbody>\n",
       "    <tr>\n",
       "      <th>0</th>\n",
       "      <td>0</td>\n",
       "      <td>협박 대화</td>\n",
       "      <td>지금 너 스스로를 죽여달라고 애원하는 것인가?\\n 아닙니다. 죄송합니다.\\n 죽을 ...</td>\n",
       "    </tr>\n",
       "    <tr>\n",
       "      <th>1</th>\n",
       "      <td>1</td>\n",
       "      <td>협박 대화</td>\n",
       "      <td>길동경찰서입니다.\\n9시 40분 마트에 폭발물을 설치할거다.\\n네?\\n똑바로 들어 ...</td>\n",
       "    </tr>\n",
       "    <tr>\n",
       "      <th>2</th>\n",
       "      <td>2</td>\n",
       "      <td>기타 괴롭힘 대화</td>\n",
       "      <td>너 되게 귀여운거 알지? 나보다 작은 남자는 첨봤어.\\n그만해. 니들 놀리는거 재미...</td>\n",
       "    </tr>\n",
       "    <tr>\n",
       "      <th>3</th>\n",
       "      <td>3</td>\n",
       "      <td>갈취 대화</td>\n",
       "      <td>어이 거기\\n예??\\n너 말이야 너. 이리 오라고\\n무슨 일.\\n너 옷 좋아보인다?...</td>\n",
       "    </tr>\n",
       "    <tr>\n",
       "      <th>4</th>\n",
       "      <td>4</td>\n",
       "      <td>갈취 대화</td>\n",
       "      <td>저기요 혹시 날이 너무 뜨겁잖아요? 저희 회사에서 이 선크림 파는데 한 번 손등에 ...</td>\n",
       "    </tr>\n",
       "  </tbody>\n",
       "</table>\n",
       "</div>"
      ],
      "text/plain": [
       "   index      class                                       conversation\n",
       "0      0      협박 대화  지금 너 스스로를 죽여달라고 애원하는 것인가?\\n 아닙니다. 죄송합니다.\\n 죽을 ...\n",
       "1      1      협박 대화  길동경찰서입니다.\\n9시 40분 마트에 폭발물을 설치할거다.\\n네?\\n똑바로 들어 ...\n",
       "2      2  기타 괴롭힘 대화  너 되게 귀여운거 알지? 나보다 작은 남자는 첨봤어.\\n그만해. 니들 놀리는거 재미...\n",
       "3      3      갈취 대화  어이 거기\\n예??\\n너 말이야 너. 이리 오라고\\n무슨 일.\\n너 옷 좋아보인다?...\n",
       "4      4      갈취 대화  저기요 혹시 날이 너무 뜨겁잖아요? 저희 회사에서 이 선크림 파는데 한 번 손등에 ..."
      ]
     },
     "execution_count": 4,
     "metadata": {},
     "output_type": "execute_result"
    }
   ],
   "source": [
    "# train data 와 normal 데이터 합치기\n",
    "def concat_train_normal(train_df, normal_df):\n",
    "    train_df = pd.concat([train_df, normal_df], ignore_index=True)\n",
    "    train_df.drop(['idx'], axis=1, inplace=True)\n",
    "    train_df.reset_index(inplace=True)\n",
    "\n",
    "    return train_df\n",
    "\n",
    "train_df = concat_train_normal(train_df, normal_df)\n",
    "train_df.head()"
   ]
  },
  {
   "cell_type": "code",
   "execution_count": 5,
   "metadata": {},
   "outputs": [
    {
     "data": {
      "text/plain": [
       "((4950, 4),\n",
       "    index      class                                       conversation  \\\n",
       " 0      0      협박 대화  지금 너 스스로를 죽여달라고 애원하는 것인가?\\n 아닙니다. 죄송합니다.\\n 죽을 ...   \n",
       " 1      1      협박 대화  길동경찰서입니다.\\n9시 40분 마트에 폭발물을 설치할거다.\\n네?\\n똑바로 들어 ...   \n",
       " 2      2  기타 괴롭힘 대화  너 되게 귀여운거 알지? 나보다 작은 남자는 첨봤어.\\n그만해. 니들 놀리는거 재미...   \n",
       " 3      3      갈취 대화  어이 거기\\n예??\\n너 말이야 너. 이리 오라고\\n무슨 일.\\n너 옷 좋아보인다?...   \n",
       " 4      4      갈취 대화  저기요 혹시 날이 너무 뜨겁잖아요? 저희 회사에서 이 선크림 파는데 한 번 손등에 ...   \n",
       " \n",
       "    class_encoded  \n",
       " 0              0  \n",
       " 1              0  \n",
       " 2              3  \n",
       " 3              1  \n",
       " 4              1  )"
      ]
     },
     "execution_count": 5,
     "metadata": {},
     "output_type": "execute_result"
    }
   ],
   "source": [
    "# 클래스 숫자로 변환\n",
    "def class_encoding(train_df, class_mapping):\n",
    "    train_df['class_encoded'] = train_df['class'].replace(class_mapping)\n",
    "    \n",
    "    return train_df\n",
    "\n",
    "# 클래스 매핑 딕셔너리 정의\n",
    "class_mapping = {\n",
    "    \"협박 대화\": 0,\n",
    "    \"갈취 대화\": 1,\n",
    "    \"직장 내 괴롭힘 대화\": 2,\n",
    "    \"기타 괴롭힘 대화\": 3,\n",
    "    \"일반 대화\": 4\n",
    "}\n",
    "\n",
    "train_df = class_encoding(train_df, class_mapping)\n",
    "\n",
    "# 변환된 데이터 확인\n",
    "train_df.shape, train_df.head()\n"
   ]
  },
  {
   "cell_type": "code",
   "execution_count": 6,
   "metadata": {},
   "outputs": [
    {
     "name": "stdout",
     "output_type": "stream",
     "text": [
      "중복 제거된 후 데이터 수: 4846\n"
     ]
    }
   ],
   "source": [
    "# 중복된 'conversation' 제거\n",
    "train_df = train_df.drop_duplicates(subset=['conversation'])\n",
    "\n",
    "# 중복 제거 후 데이터 확인\n",
    "print(f\"중복 제거된 후 데이터 수: {train_df.shape[0]}\")"
   ]
  },
  {
   "cell_type": "code",
   "execution_count": 7,
   "metadata": {
    "scrolled": true
   },
   "outputs": [
    {
     "name": "stdout",
     "output_type": "stream",
     "text": [
      "Train size: 3876, Validation size: 485, Test size: 485\n"
     ]
    }
   ],
   "source": [
    "from sklearn.model_selection import train_test_split\n",
    "\n",
    "# 1️⃣ 먼저 데이터를 섞기\n",
    "train_df = train_df.sample(frac=1, random_state=1998).reset_index(drop=True)\n",
    "\n",
    "# 2️⃣ 60%: 훈련 데이터 분할\n",
    "train_data, temp_data = train_test_split(train_df, test_size=0.2, random_state=42, stratify=train_df['class_encoded'])\n",
    "\n",
    "# 3️⃣ 남은 40% 중 50%를 검증, 50%를 테스트로 나누기 (즉, 20%씩)\n",
    "val_data, test_data = train_test_split(temp_data, test_size=0.5, random_state=42, stratify=temp_data['class_encoded'])\n",
    "\n",
    "# 4️⃣ 결과 확인\n",
    "print(f\"Train size: {len(train_data)}, Validation size: {len(val_data)}, Test size: {len(test_data)}\")\n"
   ]
  },
  {
   "cell_type": "markdown",
   "metadata": {},
   "source": [
    "# 전처리"
   ]
  },
  {
   "cell_type": "code",
   "execution_count": 8,
   "metadata": {},
   "outputs": [],
   "source": [
    "# 전처리 함수\n",
    "def preprocess_sentence(sentence):\n",
    "  # 입력받은 sentence를 소문자로 변경하고 양쪽 공백을 제거\n",
    "  sentence = sentence.lower().strip()\n",
    "\n",
    "  # 개행 문자(\"\\n\")를 공백으로 변환\n",
    "  sentence = re.sub(r\"\\n\", \" \", sentence)\n",
    "    \n",
    "  # 단어와 구두점(punctuation) 사이의 거리를 만듭니다.\n",
    "  # 예를 들어서 \"I am a student.\" => \"I am a student .\"와 같이\n",
    "  # student와 온점 사이에 거리를 만듭니다.\n",
    "  sentence = re.sub(r\"([?.!,])\", r\" \\1 \", sentence) # ?.!, 앞뒤로 공백 추가\n",
    "  sentence = re.sub(r'[\" \"]+', \" \", sentence) # 연속된 공백 한개의 공백으로\n",
    "\n",
    "  # (a-z, A-Z, \".\", \"?\", \"!\", \",\")를 제외한 모든 문자를 공백인 ' '로 대체합니다.\n",
    "  sentence = re.sub(r\"[^a-zA-Z\\u1100-\\u11FF\\uAC00-\\uD7AF.,?!]\", \" \", sentence)\n",
    "  sentence = sentence.strip()\n",
    "  return sentence"
   ]
  },
  {
   "cell_type": "code",
   "execution_count": 9,
   "metadata": {
    "scrolled": true
   },
   "outputs": [
    {
     "data": {
      "text/plain": [
       "1106    거기 누구에요 ! ! ! ! 뭐야 ! ! ! ! 조용히 해 . 왜그러세요 ? . 내...\n",
       "2124    야 비번 풀어 안 그러면 니 머리통에 구멍 나는 거야 저는 비번 몰라요 . ! ! ...\n",
       "1972    어이 김대리 어딨는데 . 과장님 담배 때문에 잠깐 밖에요 . 그럼 내가 얘기한 거 ...\n",
       "4079    너 지갑있지 없는데 만원만줘 없다니까 나 당장급해서그래 빌려주라갚아줄게 너가 갚아준...\n",
       "1554    야 나 니 차 좀 쓴다 . 안돼 왜 ? 좀 쓴다고 . 너 저번에도 내 차 빌려가서 ...\n",
       "                              ...                        \n",
       "3572    영어 강의 듣는 다더니 하루 들었음 . . . 할라 했는데 잘 안되네    개소름 ...\n",
       "3811    야 . 돈 좀 내놔 싫어 . 내가 돈이 어딨어 . 죽고싶냐 ? 빨리 내놔 . 너 엄...\n",
       "4683    올만이다 경수야   만원만빌려줘 싫어 몇년만에 이게뭐냐 ? 제발당장 급해서 그래 다...\n",
       "2963    넌 왜이리 얼굴에 여드름이 많아 ? 나도 그래서 스트레스야 . 여드름이 나이가 몇인...\n",
       "2670    아니 미국 동물원에 고릴라가 코로나 걸렸대 . . . 뭐에 ? 고릴라가 코로나에 걸...\n",
       "Name: conversation, Length: 3876, dtype: object"
      ]
     },
     "execution_count": 9,
     "metadata": {},
     "output_type": "execute_result"
    }
   ],
   "source": [
    "conversation = train_data['conversation'].apply(preprocess_sentence)\n",
    "conversation"
   ]
  },
  {
   "cell_type": "code",
   "execution_count": 10,
   "metadata": {},
   "outputs": [],
   "source": [
    "# 질문과 답변 데이터셋에 대해서 Vocabulary 생성\n",
    "tokenizer = tfds.deprecated.text.SubwordTextEncoder.build_from_corpus(conversation, target_vocab_size=2**11)"
   ]
  },
  {
   "cell_type": "code",
   "execution_count": 11,
   "metadata": {},
   "outputs": [
    {
     "name": "stdout",
     "output_type": "stream",
     "text": [
      "2034\n"
     ]
    }
   ],
   "source": [
    "# 시작 토큰과 종료 토큰을 고려하여 +2를 하여 단어장의 크기를 산정합니다.\n",
    "VOCAB_SIZE = tokenizer.vocab_size\n",
    "print(VOCAB_SIZE)"
   ]
  },
  {
   "cell_type": "code",
   "execution_count": 12,
   "metadata": {},
   "outputs": [
    {
     "name": "stdout",
     "output_type": "stream",
     "text": [
      "정수 인코딩 후의 1998번째 질문 샘플: [1152, 1810, 1428, 884, 47, 1570, 1, 48, 193, 1026, 2, 270, 76, 114, 724, 7, 656, 802, 1102, 5, 312, 692, 1810, 911, 26, 40, 1058, 6, 71, 330, 97, 1, 276, 450, 372, 1, 126, 124, 911, 26, 150, 344, 124, 1433, 1380, 2, 1152, 724, 1152, 446, 18, 472, 1186, 1, 87, 345, 2015, 1908, 1961, 17, 549, 76, 47, 75, 55, 30, 1, 558, 34, 1, 1651, 1384, 47, 339, 109, 1810, 1367, 1810, 911, 11, 1598, 829, 641, 1, 872, 562, 468, 262, 68, 110, 33, 1, 575, 42, 1405, 1810, 214, 72, 517, 862, 15, 2013, 1913, 1946, 1810, 821, 44, 126, 208, 15, 735, 8, 911, 301, 466, 44, 1741, 989, 1260, 532, 2, 1315, 70, 65, 195, 1810, 2014, 1919, 1966, 30, 1, 87, 1316, 61, 86, 84, 744, 1776, 143, 1111, 609, 161, 318, 52, 1662, 1, 586, 41, 68, 34, 58]\n"
     ]
    }
   ],
   "source": [
    "# 1998번째 샘플에 대해서 정수 인코딩 작업을 수행.\n",
    "# 각 토큰을 고유한 정수로 변환\n",
    "print('정수 인코딩 후의 1998번째 질문 샘플: {}'.format(tokenizer.encode(conversation[1998])))"
   ]
  },
  {
   "cell_type": "code",
   "execution_count": 13,
   "metadata": {},
   "outputs": [
    {
     "data": {
      "text/plain": [
       "['학생',\n",
       " '잠깐',\n",
       " '이리로',\n",
       " '와봐',\n",
       " '.',\n",
       " '왜',\n",
       " '그러시죠',\n",
       " '?',\n",
       " '요즘',\n",
       " '부모들은',\n",
       " '어린',\n",
       " '애들한테도',\n",
       " '명품',\n",
       " '옷을',\n",
       " '사준다고',\n",
       " '하더니',\n",
       " '.',\n",
       " '진짜였군',\n",
       " '.',\n",
       " '제가',\n",
       " '무슨',\n",
       " '옷을',\n",
       " '입든',\n",
       " '무슨',\n",
       " '상관이에요',\n",
       " '?',\n",
       " '학생들은',\n",
       " '학생답게',\n",
       " '다녀야지',\n",
       " '.',\n",
       " '그',\n",
       " '재킷은',\n",
       " '오늘부로',\n",
       " '내',\n",
       " '거다',\n",
       " '.',\n",
       " '싫어요',\n",
       " '.',\n",
       " '생일선물로',\n",
       " '겨우',\n",
       " '받은',\n",
       " '옷이란',\n",
       " '말이에요',\n",
       " '.',\n",
       " '일을',\n",
       " '복잡하게',\n",
       " '만드네',\n",
       " '.',\n",
       " '험한',\n",
       " '꼴',\n",
       " '당하고',\n",
       " '싶어',\n",
       " '?',\n",
       " '.',\n",
       " '아뇨',\n",
       " '그치만',\n",
       " '제가',\n",
       " '정말',\n",
       " '아끼는',\n",
       " '옷인데',\n",
       " '이번만',\n",
       " '봐주시면',\n",
       " '안될까요',\n",
       " '?',\n",
       " '좋아',\n",
       " '그럼',\n",
       " '인심',\n",
       " '썼다',\n",
       " '.',\n",
       " '그',\n",
       " '옷',\n",
       " '대신',\n",
       " '만원',\n",
       " '가져와봐',\n",
       " '.',\n",
       " '.',\n",
       " '엄마한테',\n",
       " '문자할게요',\n",
       " '.',\n",
       " '잠시만요',\n",
       " '.']"
      ]
     },
     "execution_count": 13,
     "metadata": {},
     "output_type": "execute_result"
    }
   ],
   "source": [
    "# 원본 확인\n",
    "conversation[1998].split()"
   ]
  },
  {
   "cell_type": "code",
   "execution_count": 14,
   "metadata": {},
   "outputs": [
    {
     "data": {
      "text/plain": [
       "[63, 80, 43, 18, 73]"
      ]
     },
     "execution_count": 14,
     "metadata": {},
     "output_type": "execute_result"
    }
   ],
   "source": [
    "# 각 데이터의 토큰 개수 세기\n",
    "temp = list(map(lambda x : len(x.split()), conversation))\n",
    "temp[:5]"
   ]
  },
  {
   "cell_type": "code",
   "execution_count": 15,
   "metadata": {},
   "outputs": [
    {
     "data": {
      "image/png": "[encoded data removed]",
      "text/plain": [
       "<Figure size 432x288 with 1 Axes>"
      ]
     },
     "metadata": {
      "needs_background": "light"
     },
     "output_type": "display_data"
    }
   ],
   "source": [
    "# 각 데이터의 토큰 개수 시각화 - histplot\n",
    "import matplotlib.pyplot as plt\n",
    "\n",
    "plt.hist(temp)\n",
    "plt.show()"
   ]
  },
  {
   "cell_type": "code",
   "execution_count": 16,
   "metadata": {},
   "outputs": [
    {
     "name": "stdout",
     "output_type": "stream",
     "text": [
      "MAX_LENGTH = 200 일때: 95.74 %\n",
      "MAX_LENGTH = 100 일때: 70.69 %\n",
      "MAX_LENGTH = 50 일때: 24.38 %\n"
     ]
    }
   ],
   "source": [
    "print(f'MAX_LENGTH = 200 일때: {np.array([True if x <= 200 else False for x in temp]).sum() / len(conversation) * 100:.2f} %')\n",
    "print(f'MAX_LENGTH = 100 일때: {np.array([True if x <= 100 else False for x in temp]).sum() / len(conversation) * 100:.2f} %')\n",
    "print(f'MAX_LENGTH = 50 일때: {np.array([True if x <= 50 else False for x in temp]).sum() / len(conversation) * 100:.2f} %')"
   ]
  },
  {
   "cell_type": "code",
   "execution_count": 17,
   "metadata": {},
   "outputs": [
    {
     "name": "stdout",
     "output_type": "stream",
     "text": [
      "200\n"
     ]
    }
   ],
   "source": [
    "# 샘플의 최대 허용 길이 또는 패딩 후의 최종 길이\n",
    "MAX_LENGTH = 200\n",
    "print(MAX_LENGTH)"
   ]
  },
  {
   "cell_type": "code",
   "execution_count": 18,
   "metadata": {},
   "outputs": [],
   "source": [
    "# 최대 길이를 초과하는 샘플은 데이터 자르기, 패딩\n",
    "def tokenize_and_filter(inputs):\n",
    "  tokenized_inputs = list()\n",
    "  \n",
    "  for sentence in inputs:\n",
    "    # 정수 인코딩 과정에서 시작 토큰과 종료 토큰을 추가\n",
    "    sentence = tokenizer.encode(sentence)\n",
    "\n",
    "    # 최대 길이 200 까지만 데이터셋으로 사용\n",
    "    if len(sentence) <= MAX_LENGTH:\n",
    "      tokenized_inputs.append(sentence)\n",
    "    \n",
    "    else:\n",
    "      tokenized_inputs.append(sentence[:MAX_LENGTH])\n",
    "  \n",
    "  # 최대 길이 200으로 모든 데이터셋을 패딩\n",
    "  tokenized_inputs = tf.keras.preprocessing.sequence.pad_sequences(\n",
    "      tokenized_inputs, maxlen=MAX_LENGTH, padding='post')\n",
    "  \n",
    "  return tokenized_inputs"
   ]
  },
  {
   "cell_type": "code",
   "execution_count": 19,
   "metadata": {},
   "outputs": [
    {
     "name": "stdout",
     "output_type": "stream",
     "text": [
      "단어장의 크기 : 2034\n",
      "필터링 후의 대화 샘플 개수: 3876\n"
     ]
    }
   ],
   "source": [
    "conversation = tokenize_and_filter(conversation)\n",
    "print('단어장의 크기 :',(VOCAB_SIZE))\n",
    "print('필터링 후의 대화 샘플 개수: {}'.format(len(conversation)))"
   ]
  },
  {
   "cell_type": "markdown",
   "metadata": {},
   "source": [
    "# 모델링 - transformer 인코딩 모델 밑바닥부터 구현하기"
   ]
  },
  {
   "cell_type": "code",
   "execution_count": 20,
   "metadata": {},
   "outputs": [],
   "source": [
    "class PositionalEncoding(tf.keras.layers.Layer):\n",
    "\n",
    "  def __init__(self, position, d_model):\n",
    "    super(PositionalEncoding, self).__init__()\n",
    "    self.pos_encoding = self.positional_encoding(position, d_model)\n",
    "\n",
    "  def get_angles(self, position, i, d_model):\n",
    "    angles = 1 / tf.pow(10000, (2 * (i // 2)) / tf.cast(d_model, tf.float32))\n",
    "    return position * angles\n",
    "\n",
    "  def positional_encoding(self, position, d_model):\n",
    "    # 각도 배열 생성\n",
    "    angle_rads = self.get_angles(\n",
    "        position=tf.range(position, dtype=tf.float32)[:, tf.newaxis],\n",
    "        i=tf.range(d_model, dtype=tf.float32)[tf.newaxis, :],\n",
    "        d_model=d_model)\n",
    "\n",
    "    # 배열의 짝수 인덱스에는 sin 함수 적용\n",
    "    sines = tf.math.sin(angle_rads[:, 0::2])\n",
    "    # 배열의 홀수 인덱스에는 cosine 함수 적용\n",
    "    cosines = tf.math.cos(angle_rads[:, 1::2])\n",
    "\n",
    "    # sin과 cosine이 교차되도록 재배열\n",
    "    pos_encoding = tf.stack([sines, cosines], axis=0)\n",
    "    pos_encoding = tf.transpose(pos_encoding,[1, 2, 0]) \n",
    "    pos_encoding = tf.reshape(pos_encoding, [position, d_model])\n",
    "\n",
    "    pos_encoding = pos_encoding[tf.newaxis, ...]\n",
    "    return tf.cast(pos_encoding, tf.float32)\n",
    "\n",
    "  def call(self, inputs):\n",
    "    return inputs + self.pos_encoding[:, :tf.shape(inputs)[1], :]\n",
    "\n",
    "# 스케일드 닷 프로덕트 어텐션 함수\n",
    "def scaled_dot_product_attention(query, key, value, mask):\n",
    "  # 어텐션 가중치는 Q와 K의 닷 프로덕트\n",
    "  matmul_qk = tf.matmul(query, key, transpose_b=True)\n",
    "\n",
    "  # 가중치를 정규화\n",
    "  depth = tf.cast(tf.shape(key)[-1], tf.float32)\n",
    "  logits = matmul_qk / tf.math.sqrt(depth)\n",
    "\n",
    "  # 패딩에 마스크 추가\n",
    "  if mask is not None:\n",
    "    logits += (mask * -1e9)\n",
    "\n",
    "  # softmax적용\n",
    "  attention_weights = tf.nn.softmax(logits, axis=-1)\n",
    "\n",
    "  # 최종 어텐션은 가중치와 V의 닷 프로덕트\n",
    "  output = tf.matmul(attention_weights, value)\n",
    "  return output\n",
    "\n",
    "# 멀티 헤드 어텐션 구현하기\n",
    "class MultiHeadAttention(tf.keras.layers.Layer):\n",
    "\n",
    "  def __init__(self, d_model, num_heads, name=\"multi_head_attention\"):\n",
    "    super(MultiHeadAttention, self).__init__(name=name)\n",
    "    self.num_heads = num_heads\n",
    "    self.d_model = d_model\n",
    "\n",
    "    assert d_model % self.num_heads == 0\n",
    "\n",
    "    self.depth = d_model // self.num_heads\n",
    "\n",
    "    self.query_dense = tf.keras.layers.Dense(units=d_model)\n",
    "    self.key_dense = tf.keras.layers.Dense(units=d_model)\n",
    "    self.value_dense = tf.keras.layers.Dense(units=d_model)\n",
    "\n",
    "    self.dense = tf.keras.layers.Dense(units=d_model)\n",
    "\n",
    "  def split_heads(self, inputs, batch_size):\n",
    "    inputs = tf.reshape(\n",
    "        inputs, shape=(batch_size, -1, self.num_heads, self.depth))\n",
    "    return tf.transpose(inputs, perm=[0, 2, 1, 3])\n",
    "\n",
    "  def call(self, inputs):\n",
    "    query, key, value, mask = inputs['query'], inputs['key'], inputs[\n",
    "        'value'], inputs['mask']\n",
    "    batch_size = tf.shape(query)[0]\n",
    "\n",
    "    # Q, K, V에 각각 Dense를 적용합니다\n",
    "    query = self.query_dense(query)\n",
    "    key = self.key_dense(key)\n",
    "    value = self.value_dense(value)\n",
    "\n",
    "    # 병렬 연산을 위한 머리를 여러 개 만듭니다\n",
    "    query = self.split_heads(query, batch_size)\n",
    "    key = self.split_heads(key, batch_size)\n",
    "    value = self.split_heads(value, batch_size)\n",
    "\n",
    "    # 스케일드 닷 프로덕트 어텐션 함수\n",
    "    scaled_attention = scaled_dot_product_attention(query, key, value, mask)\n",
    "\n",
    "    scaled_attention = tf.transpose(scaled_attention, perm=[0, 2, 1, 3])\n",
    "\n",
    "    # 어텐션 연산 후에 각 결과를 다시 연결(concatenate)합니다\n",
    "    concat_attention = tf.reshape(scaled_attention,\n",
    "                                  (batch_size, -1, self.d_model))\n",
    "\n",
    "    # 최종 결과에도 Dense를 한 번 더 적용합니다\n",
    "    outputs = self.dense(concat_attention)\n",
    "\n",
    "    return outputs\n",
    "\n",
    "# 패딩 마스크 구현 함수\n",
    "def create_padding_mask(x):\n",
    "  mask = tf.cast(tf.math.equal(x, 0), tf.float32)\n",
    "  # (batch_size, 1, 1, sequence length)\n",
    "  return mask[:, tf.newaxis, tf.newaxis, :]\n",
    "\n",
    "# 인코더 하나의 레이어를 함수로 구현.\n",
    "# 이 하나의 레이어 안에는 두 개의 서브 레이어가 존재합니다.\n",
    "def encoder_layer(units, d_model, num_heads, dropout, name=\"encoder_layer\"):\n",
    "  inputs = tf.keras.Input(shape=(None, d_model), name=\"inputs\")\n",
    "\n",
    "  # 패딩 마스크 사용\n",
    "  padding_mask = tf.keras.Input(shape=(1, 1, None), name=\"padding_mask\")\n",
    "\n",
    "  # 첫 번째 서브 레이어 : 멀티 헤드 어텐션 수행 (셀프 어텐션)\n",
    "  attention = MultiHeadAttention(\n",
    "      d_model, num_heads, name=\"attention\")({\n",
    "          'query': inputs,\n",
    "          'key': inputs,\n",
    "          'value': inputs,\n",
    "          'mask': padding_mask\n",
    "      })\n",
    "\n",
    "  # 어텐션의 결과는 Dropout과 Layer Normalization이라는 훈련을 돕는 테크닉을 수행\n",
    "  attention = tf.keras.layers.Dropout(rate=dropout)(attention)\n",
    "  attention = tf.keras.layers.LayerNormalization(\n",
    "      epsilon=1e-6)(inputs + attention)\n",
    "\n",
    "  # 두 번째 서브 레이어 : 2개의 완전연결층\n",
    "  outputs = tf.keras.layers.Dense(units=units, activation='relu')(attention)\n",
    "  outputs = tf.keras.layers.Dense(units=d_model)(outputs)\n",
    "\n",
    "  # 완전연결층의 결과는 Dropout과 LayerNormalization이라는 훈련을 돕는 테크닉을 수행\n",
    "  outputs = tf.keras.layers.Dropout(rate=dropout)(outputs)\n",
    "  outputs = tf.keras.layers.LayerNormalization(\n",
    "      epsilon=1e-6)(attention + outputs)\n",
    "\n",
    "  return tf.keras.Model(\n",
    "      inputs=[inputs, padding_mask], outputs=outputs, name=name)\n",
    "\n",
    "# 인코더 생성하기\n",
    "def encoder(vocab_size,\n",
    "            num_layers,\n",
    "            units,\n",
    "            d_model,\n",
    "            num_heads,\n",
    "            dropout,\n",
    "            name=\"encoder\"):\n",
    "  inputs = tf.keras.Input(shape=(None,), name=\"inputs\")\n",
    "\n",
    "  # 패딩 마스크 사용\n",
    "  padding_mask = tf.keras.Input(shape=(1, 1, None), name=\"padding_mask\")\n",
    "\n",
    "  # 임베딩 레이어\n",
    "  embeddings = tf.keras.layers.Embedding(vocab_size, d_model)(inputs)\n",
    "  embeddings *= tf.math.sqrt(tf.cast(d_model, tf.float32))\n",
    "\n",
    "  # 포지셔널 인코딩\n",
    "  embeddings = PositionalEncoding(vocab_size, d_model)(embeddings)\n",
    "\n",
    "  outputs = tf.keras.layers.Dropout(rate=dropout)(embeddings)\n",
    "\n",
    "  # num_layers만큼 쌓아올린 인코더의 층.\n",
    "  for i in range(num_layers):\n",
    "    outputs = encoder_layer(\n",
    "        units=units,\n",
    "        d_model=d_model,\n",
    "        num_heads=num_heads,\n",
    "        dropout=dropout,\n",
    "        name=\"encoder_layer_{}\".format(i),\n",
    "    )([outputs, padding_mask])\n",
    "\n",
    "  return tf.keras.Model(\n",
    "      inputs=[inputs, padding_mask], outputs=outputs, name=name)"
   ]
  },
  {
   "cell_type": "code",
   "execution_count": 21,
   "metadata": {},
   "outputs": [],
   "source": [
    "# 인코더만 구성하기\n",
    "def my_encoder(vocab_size,\n",
    "                num_layers,\n",
    "                units,\n",
    "                d_model,\n",
    "                num_heads,\n",
    "                dropout,\n",
    "                name=\"my_encoder\"):\n",
    "  inputs = tf.keras.Input(shape=(None,), name=\"inputs\")\n",
    "\n",
    "  # 인코더에서 패딩을 위한 마스크\n",
    "  enc_padding_mask = tf.keras.layers.Lambda(\n",
    "      create_padding_mask, output_shape=(1, 1, None),\n",
    "      name='enc_padding_mask')(inputs)\n",
    "\n",
    "  # 인코더\n",
    "  enc_outputs = encoder(\n",
    "      vocab_size=vocab_size,\n",
    "      num_layers=num_layers,\n",
    "      units=units,\n",
    "      d_model=d_model,\n",
    "      num_heads=num_heads,\n",
    "      dropout=dropout,\n",
    "  )(inputs=[inputs, enc_padding_mask])\n",
    "\n",
    "  # Global Average Pooling 적용 (or Max Pooling 가능)\n",
    "  outputs = tf.keras.layers.GlobalMaxPooling1D()(enc_outputs)\n",
    "\n",
    "  # 완전연결층\n",
    "  outputs = tf.keras.layers.Dense(256, activation=\"relu\", name='dense1')(outputs)\n",
    "#   outputs = tf.keras.layers.Dropout(0.3)(outputs)  # 🔥 드롭아웃 추가 (30%)\n",
    "  outputs = tf.keras.layers.Dense(128, activation=\"relu\", name='dense2')(outputs)\n",
    "#   outputs = tf.keras.layers.Dropout(0.3)(outputs)  # 🔥 드롭아웃 추가 (30%)\n",
    "  outputs = tf.keras.layers.Dense(units=5, activation=\"softmax\", name='outputs')(outputs)\n",
    "\n",
    "  return tf.keras.Model(inputs=inputs, outputs=outputs, name=name)"
   ]
  },
  {
   "cell_type": "code",
   "execution_count": 22,
   "metadata": {},
   "outputs": [
    {
     "name": "stdout",
     "output_type": "stream",
     "text": [
      "Model: \"my_encoder\"\n",
      "__________________________________________________________________________________________________\n",
      "Layer (type)                    Output Shape         Param #     Connected to                     \n",
      "==================================================================================================\n",
      "inputs (InputLayer)             [(None, None)]       0                                            \n",
      "__________________________________________________________________________________________________\n",
      "enc_padding_mask (Lambda)       (None, 1, 1, None)   0           inputs[0][0]                     \n",
      "__________________________________________________________________________________________________\n",
      "encoder (Functional)            (None, None, 256)    1574912     inputs[0][0]                     \n",
      "                                                                 enc_padding_mask[0][0]           \n",
      "__________________________________________________________________________________________________\n",
      "global_max_pooling1d (GlobalMax (None, 256)          0           encoder[0][0]                    \n",
      "__________________________________________________________________________________________________\n",
      "dense1 (Dense)                  (None, 256)          65792       global_max_pooling1d[0][0]       \n",
      "__________________________________________________________________________________________________\n",
      "dense2 (Dense)                  (None, 128)          32896       dense1[0][0]                     \n",
      "__________________________________________________________________________________________________\n",
      "outputs (Dense)                 (None, 5)            645         dense2[0][0]                     \n",
      "==================================================================================================\n",
      "Total params: 1,674,245\n",
      "Trainable params: 1,674,245\n",
      "Non-trainable params: 0\n",
      "__________________________________________________________________________________________________\n"
     ]
    }
   ],
   "source": [
    "# 모델 생성하기\n",
    "tf.keras.backend.clear_session()\n",
    "\n",
    "# 하이퍼파라미터\n",
    "NUM_LAYERS = 2 # 인코더와 디코더의 층의 개수\n",
    "D_MODEL = 256 # 인코더와 디코더 내부의 입, 출력의 고정 차원\n",
    "NUM_HEADS = 8 # 멀티 헤드 어텐션에서의 헤드 수 \n",
    "UNITS = 512 # 피드 포워드 신경망의 은닉층의 크기\n",
    "DROPOUT = 0.1 # 드롭아웃의 비율\n",
    "\n",
    "model = my_encoder(\n",
    "    vocab_size=VOCAB_SIZE,\n",
    "    num_layers=NUM_LAYERS,\n",
    "    units=UNITS,\n",
    "    d_model=D_MODEL,\n",
    "    num_heads=NUM_HEADS,\n",
    "    dropout=DROPOUT)\n",
    "\n",
    "model.summary()"
   ]
  },
  {
   "cell_type": "code",
   "execution_count": 23,
   "metadata": {},
   "outputs": [],
   "source": [
    "# 커스텀 학습률 스케줄링(Custom Learning rate Scheduling)\n",
    "class CustomSchedule(tf.keras.optimizers.schedules.LearningRateSchedule):\n",
    "\n",
    "  def __init__(self, d_model, warmup_steps=4000):\n",
    "    super(CustomSchedule, self).__init__()\n",
    "\n",
    "    self.d_model = d_model\n",
    "    self.d_model = tf.cast(self.d_model, tf.float32)\n",
    "\n",
    "    self.warmup_steps = warmup_steps\n",
    "\n",
    "  def __call__(self, step):\n",
    "    arg1 = tf.math.rsqrt(step)\n",
    "    arg2 = step * (self.warmup_steps**-1.5)\n",
    "\n",
    "    return tf.math.rsqrt(self.d_model) * tf.math.minimum(arg1, arg2)"
   ]
  },
  {
   "cell_type": "code",
   "execution_count": 24,
   "metadata": {},
   "outputs": [],
   "source": [
    "from tensorflow.keras.callbacks import EarlyStopping, ModelCheckpoint\n",
    "\n",
    "# EarlyStopping & ModelCheckpoint 설정\n",
    "early_stopping = EarlyStopping(\n",
    "    monitor='val_loss', patience=5, restore_best_weights=True, verbose=1)\n",
    "\n",
    "model_checkpoint = ModelCheckpoint(\n",
    "    \"best_model\", monitor='val_loss', save_best_only=True, mode='max', verbose=1, save_format=\"tf\", save_weights_only=True)\n",
    "\n",
    "callbacks = [early_stopping, model_checkpoint]\n"
   ]
  },
  {
   "cell_type": "code",
   "execution_count": 25,
   "metadata": {},
   "outputs": [],
   "source": [
    "# 모델 컴파일\n",
    "learning_rate = CustomSchedule(D_MODEL)\n",
    "\n",
    "optimizer = tf.keras.optimizers.Adam(\n",
    "    learning_rate, beta_1=0.9, beta_2=0.98, epsilon=1e-9)\n",
    "\n",
    "model.compile(optimizer=optimizer, loss=tf.keras.losses.SparseCategoricalCrossentropy(from_logits=False), metrics=[\"accuracy\"])"
   ]
  },
  {
   "cell_type": "code",
   "execution_count": 26,
   "metadata": {},
   "outputs": [],
   "source": [
    "BATCH_SIZE = 64\n",
    "BUFFER_SIZE = 10000\n",
    "\n",
    "def get_dataset(data):\n",
    "    conversation = data['conversation'].apply(preprocess_sentence)\n",
    "    conversation = tokenize_and_filter(conversation)\n",
    "\n",
    "    dataset = tf.data.Dataset.from_tensor_slices((\n",
    "    {'inputs': conversation},  # 입력 데이터\n",
    "    {'outputs': data['class_encoded'].values}  # 출력 데이터 (라벨)\n",
    "    ))\n",
    "    \n",
    "    dataset = dataset.cache().batch(BATCH_SIZE).prefetch(tf.data.AUTOTUNE)\n",
    "    \n",
    "    return dataset\n",
    "\n",
    "train_dataset = get_dataset(train_data)\n",
    "val_dataset = get_dataset(val_data)\n",
    "test_dataset = get_dataset(test_data)"
   ]
  },
  {
   "cell_type": "code",
   "execution_count": 27,
   "metadata": {},
   "outputs": [
    {
     "name": "stdout",
     "output_type": "stream",
     "text": [
      "Epoch 1/100\n",
      "61/61 [==============================] - 8s 79ms/step - loss: 2.1447 - accuracy: 0.2288 - val_loss: 1.5922 - val_accuracy: 0.3093\n",
      "\n",
      "Epoch 00001: val_loss improved from -inf to 1.59218, saving model to best_model\n",
      "Epoch 2/100\n",
      "61/61 [==============================] - 4s 70ms/step - loss: 1.4990 - accuracy: 0.3782 - val_loss: 1.3850 - val_accuracy: 0.3876\n",
      "\n",
      "Epoch 00002: val_loss did not improve from 1.59218\n",
      "Epoch 3/100\n",
      "61/61 [==============================] - 4s 71ms/step - loss: 1.3103 - accuracy: 0.4162 - val_loss: 1.2252 - val_accuracy: 0.4454\n",
      "\n",
      "Epoch 00003: val_loss did not improve from 1.59218\n",
      "Epoch 4/100\n",
      "61/61 [==============================] - 4s 70ms/step - loss: 1.1758 - accuracy: 0.4634 - val_loss: 1.1006 - val_accuracy: 0.5299\n",
      "\n",
      "Epoch 00004: val_loss did not improve from 1.59218\n",
      "Epoch 5/100\n",
      "61/61 [==============================] - 4s 71ms/step - loss: 1.0688 - accuracy: 0.5341 - val_loss: 0.9914 - val_accuracy: 0.6309\n",
      "\n",
      "Epoch 00005: val_loss did not improve from 1.59218\n",
      "Epoch 6/100\n",
      "61/61 [==============================] - 4s 71ms/step - loss: 0.9256 - accuracy: 0.6347 - val_loss: 0.8343 - val_accuracy: 0.6309\n",
      "\n",
      "Epoch 00006: val_loss did not improve from 1.59218\n",
      "Epoch 7/100\n",
      "61/61 [==============================] - 4s 71ms/step - loss: 0.6838 - accuracy: 0.7451 - val_loss: 0.6453 - val_accuracy: 0.7423\n",
      "\n",
      "Epoch 00007: val_loss did not improve from 1.59218\n",
      "Epoch 8/100\n",
      "61/61 [==============================] - 4s 71ms/step - loss: 0.4858 - accuracy: 0.8256 - val_loss: 0.5115 - val_accuracy: 0.8165\n",
      "\n",
      "Epoch 00008: val_loss did not improve from 1.59218\n",
      "Epoch 9/100\n",
      "61/61 [==============================] - 4s 71ms/step - loss: 0.3653 - accuracy: 0.8661 - val_loss: 0.4295 - val_accuracy: 0.8536\n",
      "\n",
      "Epoch 00009: val_loss did not improve from 1.59218\n",
      "Epoch 10/100\n",
      "61/61 [==============================] - 4s 71ms/step - loss: 0.2807 - accuracy: 0.8978 - val_loss: 0.6177 - val_accuracy: 0.7711\n",
      "\n",
      "Epoch 00010: val_loss did not improve from 1.59218\n",
      "Epoch 11/100\n",
      "61/61 [==============================] - 4s 71ms/step - loss: 0.2000 - accuracy: 0.9275 - val_loss: 0.5993 - val_accuracy: 0.7814\n",
      "\n",
      "Epoch 00011: val_loss did not improve from 1.59218\n",
      "Epoch 12/100\n",
      "61/61 [==============================] - 4s 72ms/step - loss: 0.1846 - accuracy: 0.9275 - val_loss: 0.5178 - val_accuracy: 0.8577\n",
      "\n",
      "Epoch 00012: val_loss did not improve from 1.59218\n",
      "Epoch 13/100\n",
      "61/61 [==============================] - 4s 72ms/step - loss: 0.1440 - accuracy: 0.9466 - val_loss: 0.5585 - val_accuracy: 0.8495\n",
      "\n",
      "Epoch 00013: val_loss did not improve from 1.59218\n",
      "Epoch 14/100\n",
      "61/61 [==============================] - 4s 72ms/step - loss: 0.1149 - accuracy: 0.9587 - val_loss: 0.5558 - val_accuracy: 0.8577\n",
      "Restoring model weights from the end of the best epoch.\n",
      "\n",
      "Epoch 00014: val_loss did not improve from 1.59218\n",
      "Epoch 00014: early stopping\n"
     ]
    },
    {
     "data": {
      "image/png": "[encoded data removed]",
      "text/plain": [
       "<Figure size 864x360 with 2 Axes>"
      ]
     },
     "metadata": {
      "needs_background": "light"
     },
     "output_type": "display_data"
    }
   ],
   "source": [
    "import matplotlib.pyplot as plt\n",
    "\n",
    "# 모델 학습 실행 (history 저장)\n",
    "EPOCHS = 100\n",
    "history = model.fit(\n",
    "    train_dataset, \n",
    "    validation_data=val_dataset, \n",
    "    epochs=EPOCHS, \n",
    "    callbacks=callbacks\n",
    ")\n",
    "\n",
    "# 학습 결과(history) 가져오기\n",
    "train_loss = history.history['loss']\n",
    "val_loss = history.history['val_loss']\n",
    "train_acc = history.history.get('accuracy', history.history.get('acc'))  # 'accuracy' 또는 'acc' 키 확인\n",
    "val_acc = history.history.get('val_accuracy', history.history.get('val_acc'))  # 'val_accuracy' 또는 'val_acc' 키 확인\n",
    "\n",
    "# 에포크 값 생성\n",
    "epochs = range(1, len(train_loss) + 1)\n",
    "\n",
    "# Loss 그래프\n",
    "plt.figure(figsize=(12, 5))\n",
    "plt.subplot(1, 2, 1)\n",
    "plt.plot(epochs, train_loss, 'b-', label='Training Loss')\n",
    "plt.plot(epochs, val_loss, 'r-', label='Validation Loss')\n",
    "plt.xlabel('Epochs')\n",
    "plt.ylabel('Loss')\n",
    "plt.title('Training & Validation Loss')\n",
    "plt.legend()\n",
    "\n",
    "# Accuracy 그래프\n",
    "plt.subplot(1, 2, 2)\n",
    "plt.plot(epochs, train_acc, 'b-', label='Training Accuracy')\n",
    "plt.plot(epochs, val_acc, 'r-', label='Validation Accuracy')\n",
    "plt.xlabel('Epochs')\n",
    "plt.ylabel('Accuracy')\n",
    "plt.title('Training & Validation Accuracy')\n",
    "plt.legend()\n",
    "\n",
    "plt.show()\n"
   ]
  },
  {
   "cell_type": "code",
   "execution_count": 28,
   "metadata": {},
   "outputs": [
    {
     "data": {
      "text/plain": [
       "3    809\n",
       "4    800\n",
       "1    778\n",
       "2    776\n",
       "0    713\n",
       "dtype: int64"
      ]
     },
     "execution_count": 28,
     "metadata": {},
     "output_type": "execute_result"
    }
   ],
   "source": [
    "# test_dataset에서 X, y 추출\n",
    "\n",
    "# X와 y 리스트 생성\n",
    "X_train = []\n",
    "y_train = []\n",
    "\n",
    "# test_dataset에서 inputs(X)와 outputs(y) 추출\n",
    "for x, y in train_dataset:\n",
    "    X_train.extend(x['inputs'].numpy())  # X 값 (입력 데이터)\n",
    "    y_train.extend(y['outputs'].numpy())  # y 값 (라벨 데이터)\n",
    "\n",
    "# 리스트를 NumPy 배열로 변환\n",
    "X_train = np.array(X_train)\n",
    "y_train = np.array(y_train)\n",
    "\n",
    "pd.value_counts(y_train)\n"
   ]
  },
  {
   "cell_type": "code",
   "execution_count": 29,
   "metadata": {},
   "outputs": [
    {
     "data": {
      "text/plain": [
       "3    101\n",
       "4    100\n",
       "1     98\n",
       "2     97\n",
       "0     89\n",
       "dtype: int64"
      ]
     },
     "execution_count": 29,
     "metadata": {},
     "output_type": "execute_result"
    }
   ],
   "source": [
    "# test_dataset에서 X, y 추출\n",
    "\n",
    "# X와 y 리스트 생성\n",
    "X_val = []\n",
    "y_val = []\n",
    "\n",
    "# test_dataset에서 inputs(X)와 outputs(y) 추출\n",
    "for x, y in val_dataset:\n",
    "    X_val.extend(x['inputs'].numpy())  # X 값 (입력 데이터)\n",
    "    y_val.extend(y['outputs'].numpy())  # y 값 (라벨 데이터)\n",
    "\n",
    "# 리스트를 NumPy 배열로 변환\n",
    "X_val = np.array(X_val)\n",
    "y_val = np.array(y_val)\n",
    "\n",
    "pd.value_counts(y_val)\n"
   ]
  },
  {
   "cell_type": "code",
   "execution_count": 30,
   "metadata": {},
   "outputs": [
    {
     "data": {
      "text/plain": [
       "3    101\n",
       "4    100\n",
       "1     97\n",
       "2     97\n",
       "0     90\n",
       "dtype: int64"
      ]
     },
     "execution_count": 30,
     "metadata": {},
     "output_type": "execute_result"
    }
   ],
   "source": [
    "# test_dataset에서 X, y 추출\n",
    "\n",
    "# X와 y 리스트 생성\n",
    "X_test = []\n",
    "y_test = []\n",
    "\n",
    "# test_dataset에서 inputs(X)와 outputs(y) 추출\n",
    "for x, y in test_dataset:\n",
    "    X_test.extend(x['inputs'].numpy())  # X 값 (입력 데이터)\n",
    "    y_test.extend(y['outputs'].numpy())  # y 값 (라벨 데이터)\n",
    "\n",
    "# 리스트를 NumPy 배열로 변환\n",
    "X_test = np.array(X_test)\n",
    "y_test = np.array(y_test)\n",
    "\n",
    "pd.value_counts(y_test)\n"
   ]
  },
  {
   "cell_type": "code",
   "execution_count": 31,
   "metadata": {},
   "outputs": [
    {
     "data": {
      "text/plain": [
       "(4846, 200)"
      ]
     },
     "execution_count": 31,
     "metadata": {},
     "output_type": "execute_result"
    }
   ],
   "source": [
    "# X 데이터 합치기\n",
    "temp = np.concatenate([X_train, X_val, X_test], axis=0)\n",
    "temp.shape"
   ]
  },
  {
   "cell_type": "code",
   "execution_count": 32,
   "metadata": {},
   "outputs": [
    {
     "data": {
      "text/plain": [
       "(4845, 200)"
      ]
     },
     "execution_count": 32,
     "metadata": {},
     "output_type": "execute_result"
    }
   ],
   "source": [
    "# X 데이터 중복값 확인(데이터 누출 확인)\n",
    "np.unique(temp, axis=0).shape"
   ]
  },
  {
   "cell_type": "markdown",
   "metadata": {},
   "source": [
    "# Test dataset으로 확인하기"
   ]
  },
  {
   "cell_type": "code",
   "execution_count": 33,
   "metadata": {},
   "outputs": [
    {
     "name": "stdout",
     "output_type": "stream",
     "text": [
      "61/61 [==============================] - 2s 26ms/step - loss: 0.1854 - accuracy: 0.9438\n"
     ]
    },
    {
     "data": {
      "text/plain": [
       "[0.18542397022247314, 0.9437564611434937]"
      ]
     },
     "execution_count": 33,
     "metadata": {},
     "output_type": "execute_result"
    }
   ],
   "source": [
    "# 모델 평가 (train_dataset을 사용)\n",
    "model.evaluate(train_dataset)"
   ]
  },
  {
   "cell_type": "code",
   "execution_count": 34,
   "metadata": {},
   "outputs": [
    {
     "name": "stdout",
     "output_type": "stream",
     "text": [
      "8/8 [==============================] - 0s 25ms/step - loss: 0.4295 - accuracy: 0.8536\n"
     ]
    },
    {
     "data": {
      "text/plain": [
       "[0.42947494983673096, 0.853608250617981]"
      ]
     },
     "execution_count": 34,
     "metadata": {},
     "output_type": "execute_result"
    }
   ],
   "source": [
    "# 모델 평가 (validation_dataset을 사용)\n",
    "model.evaluate(val_dataset)"
   ]
  },
  {
   "cell_type": "code",
   "execution_count": 35,
   "metadata": {},
   "outputs": [
    {
     "name": "stdout",
     "output_type": "stream",
     "text": [
      "8/8 [==============================] - 0s 25ms/step - loss: 0.4262 - accuracy: 0.8577\n"
     ]
    },
    {
     "data": {
      "text/plain": [
       "[0.42624959349632263, 0.8577319383621216]"
      ]
     },
     "execution_count": 35,
     "metadata": {},
     "output_type": "execute_result"
    }
   ],
   "source": [
    "# 모델 평가 (test_dataset을 사용)\n",
    "model.evaluate(test_dataset)"
   ]
  },
  {
   "cell_type": "code",
   "execution_count": 36,
   "metadata": {},
   "outputs": [
    {
     "name": "stdout",
     "output_type": "stream",
     "text": [
      "X_test shape: (485, 200)\n",
      "y_test shape: (485,)\n"
     ]
    }
   ],
   "source": [
    "# test_dataset에서 X, y 추출\n",
    "\n",
    "# X와 y 리스트 생성\n",
    "X_test = []\n",
    "y_test = []\n",
    "\n",
    "# test_dataset에서 inputs(X)와 outputs(y) 추출\n",
    "for x, y in test_dataset:\n",
    "    X_test.extend(x['inputs'].numpy())  # X 값 (입력 데이터)\n",
    "    y_test.extend(y['outputs'].numpy())  # y 값 (라벨 데이터)\n",
    "\n",
    "# 리스트를 NumPy 배열로 변환\n",
    "X_test = np.array(X_test)\n",
    "y_test = np.array(y_test)\n",
    "\n",
    "print(\"X_test shape:\", X_test.shape)\n",
    "print(\"y_test shape:\", y_test.shape)\n"
   ]
  },
  {
   "cell_type": "code",
   "execution_count": 37,
   "metadata": {},
   "outputs": [
    {
     "data": {
      "text/plain": [
       "array([1, 3, 1, 3, 0])"
      ]
     },
     "execution_count": 37,
     "metadata": {},
     "output_type": "execute_result"
    }
   ],
   "source": [
    "def get_pred(X_test):\n",
    "    y_pred = model.predict(X_test)\n",
    "    y_pred = np.argmax(y_pred, axis=-1)\n",
    "    \n",
    "    return y_pred\n",
    "\n",
    "y_pred = get_pred(X_test)\n",
    "y_pred[:5]"
   ]
  },
  {
   "cell_type": "code",
   "execution_count": 38,
   "metadata": {},
   "outputs": [
    {
     "name": "stdout",
     "output_type": "stream",
     "text": [
      "              precision    recall  f1-score   support\n",
      "\n",
      "           0     0.8101    0.7111    0.7574        90\n",
      "           1     0.7928    0.9072    0.8462        97\n",
      "           2     0.9149    0.8866    0.9005        97\n",
      "           3     0.7822    0.7822    0.7822       101\n",
      "           4     0.9900    0.9900    0.9900       100\n",
      "\n",
      "    accuracy                         0.8577       485\n",
      "   macro avg     0.8580    0.8554    0.8553       485\n",
      "weighted avg     0.8589    0.8577    0.8569       485\n",
      "\n"
     ]
    }
   ],
   "source": [
    "from sklearn.metrics import classification_report\n",
    "\n",
    "report = classification_report(y_test, y_pred, digits=4)\n",
    "print(report)"
   ]
  },
  {
   "cell_type": "markdown",
   "metadata": {},
   "source": [
    "# 추론 및 Submission 저장"
   ]
  },
  {
   "cell_type": "code",
   "execution_count": 39,
   "metadata": {},
   "outputs": [
    {
     "data": {
      "text/html": [
       "<div>\n",
       "<style scoped>\n",
       "    .dataframe tbody tr th:only-of-type {\n",
       "        vertical-align: middle;\n",
       "    }\n",
       "\n",
       "    .dataframe tbody tr th {\n",
       "        vertical-align: top;\n",
       "    }\n",
       "\n",
       "    .dataframe thead th {\n",
       "        text-align: right;\n",
       "    }\n",
       "</style>\n",
       "<table border=\"1\" class=\"dataframe\">\n",
       "  <thead>\n",
       "    <tr style=\"text-align: right;\">\n",
       "      <th></th>\n",
       "      <th>idx</th>\n",
       "      <th>target</th>\n",
       "    </tr>\n",
       "  </thead>\n",
       "  <tbody>\n",
       "    <tr>\n",
       "      <th>0</th>\n",
       "      <td>t_000</td>\n",
       "      <td>1</td>\n",
       "    </tr>\n",
       "    <tr>\n",
       "      <th>1</th>\n",
       "      <td>t_001</td>\n",
       "      <td>2</td>\n",
       "    </tr>\n",
       "    <tr>\n",
       "      <th>2</th>\n",
       "      <td>t_002</td>\n",
       "      <td>2</td>\n",
       "    </tr>\n",
       "    <tr>\n",
       "      <th>3</th>\n",
       "      <td>t_003</td>\n",
       "      <td>3</td>\n",
       "    </tr>\n",
       "    <tr>\n",
       "      <th>4</th>\n",
       "      <td>t_004</td>\n",
       "      <td>3</td>\n",
       "    </tr>\n",
       "  </tbody>\n",
       "</table>\n",
       "</div>"
      ],
      "text/plain": [
       "     idx  target\n",
       "0  t_000       1\n",
       "1  t_001       2\n",
       "2  t_002       2\n",
       "3  t_003       3\n",
       "4  t_004       3"
      ]
     },
     "execution_count": 39,
     "metadata": {},
     "output_type": "execute_result"
    }
   ],
   "source": [
    "def make_submission_df(model, test_df):\n",
    "    test_conversation = test_df['text'].apply(preprocess_sentence)\n",
    "    test_conversation = tokenize_and_filter(test_conversation)\n",
    "    \n",
    "    y_pred = get_pred(test_conversation)\n",
    "    \n",
    "    test_df['target'] = y_pred\n",
    "    test_df.drop(['text'], axis=1, inplace=True)\n",
    "    \n",
    "    return test_df\n",
    "\n",
    "test_df = make_submission_df(model, test_df)\n",
    "test_df.to_csv('my_submission.csv', index=False)\n",
    "test_df.head()"
   ]
  }
 ],
 "metadata": {
  "kernelspec": {
   "display_name": "Python 3 (ipykernel)",
   "language": "python",
   "name": "python3"
  },
  "language_info": {
   "codemirror_mode": {
    "name": "ipython",
    "version": 3
   },
   "file_extension": ".py",
   "mimetype": "text/x-python",
   "name": "python",
   "nbconvert_exporter": "python",
   "pygments_lexer": "ipython3",
   "version": "3.9.7"
  }
 },
 "nbformat": 4,
 "nbformat_minor": 2
}
