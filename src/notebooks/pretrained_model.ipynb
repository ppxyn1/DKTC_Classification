{
 "cells": [
  {
   "cell_type": "code",
   "execution_count": 2,
   "id": "ed44db58",
   "metadata": {},
   "outputs": [],
   "source": [
    "import pandas as pd\n",
    "import numpy as np\n",
    "import tensorflow\n",
    "import tensorflow as tf\n",
    "from collections import Counter\n",
    "import tqdm\n",
    "import re\n",
    "import json\n",
    "# from datasets import Dataset\n",
    "import os\n",
    "import torch\n",
    "from sklearn.metrics import accuracy_score, f1_score\n",
    "from sklearn.model_selection import train_test_split "
   ]
  },
  {
   "cell_type": "code",
   "execution_count": 3,
   "id": "78c95e33",
   "metadata": {},
   "outputs": [],
   "source": [
    "df_train_path= \"/aiffel/aiffel/dktc/data/train.csv\" \n",
    "df_test_path = \"/aiffel/aiffel/DLthon/test.csv\" \n",
    "df_general_path = \"/aiffel/aiffel/DLthon/general.csv\"\n",
    "\n",
    "train_augmented_total_data_path = \"/aiffel/aiffel/DLthon/final_data.csv\"\n",
    "train_augmented_replaced_data_path = '/aiffel/aiffel/DLthon/augmented_replaced_text_data.csv'\n",
    "\n",
    "df_train = pd.read_csv(df_train_path)\n",
    "df_general = pd.read_csv(df_general_path)\n",
    "df_total = pd.read_csv(train_augmented_total_data_path,encoding='cp949')\n",
    "df_replaced = pd.read_csv(train_augmented_replaced_data_path)\n",
    "testset = pd.read_csv(df_test_path)\n"
   ]
  },
  {
   "cell_type": "code",
   "execution_count": 4,
   "id": "9fbf7876",
   "metadata": {},
   "outputs": [
    {
     "data": {
      "text/html": [
       "<div>\n",
       "<style scoped>\n",
       "    .dataframe tbody tr th:only-of-type {\n",
       "        vertical-align: middle;\n",
       "    }\n",
       "\n",
       "    .dataframe tbody tr th {\n",
       "        vertical-align: top;\n",
       "    }\n",
       "\n",
       "    .dataframe thead th {\n",
       "        text-align: right;\n",
       "    }\n",
       "</style>\n",
       "<table border=\"1\" class=\"dataframe\">\n",
       "  <thead>\n",
       "    <tr style=\"text-align: right;\">\n",
       "      <th></th>\n",
       "      <th>class</th>\n",
       "      <th>conversation</th>\n",
       "    </tr>\n",
       "  </thead>\n",
       "  <tbody>\n",
       "    <tr>\n",
       "      <th>0</th>\n",
       "      <td>협박 대화</td>\n",
       "      <td>지금 너를 죽여달라고 애원하는 것인가? 아닙니다. 죄송합니다. 죽을 거면 혼자 죽지...</td>\n",
       "    </tr>\n",
       "    <tr>\n",
       "      <th>1</th>\n",
       "      <td>협박 대화</td>\n",
       "      <td>길동경찰서입니다. 9시 40분 마트에 폭발물을 설치할거다. 네? 똑바로 들어 한번만...</td>\n",
       "    </tr>\n",
       "    <tr>\n",
       "      <th>2</th>\n",
       "      <td>기타 괴롭힘 대화</td>\n",
       "      <td>너 되게 귀여운거? 나보다 작은 남자는 첨봤어. 그만해. 너 놀리는거 재미없어. 지...</td>\n",
       "    </tr>\n",
       "    <tr>\n",
       "      <th>3</th>\n",
       "      <td>갈취 대화</td>\n",
       "      <td>어이 거기 예?? 그 말이야. 이리 와서 무슨 일. 너 옷 좋아보인다? 얘 돈 좀....</td>\n",
       "    </tr>\n",
       "    <tr>\n",
       "      <th>4</th>\n",
       "      <td>갈취 대화</td>\n",
       "      <td>저기요 혹시 날이 너무 뜨겁잖아요? 저희 회사에서 이 선크림 파는데 한 번 손등에 ...</td>\n",
       "    </tr>\n",
       "  </tbody>\n",
       "</table>\n",
       "</div>"
      ],
      "text/plain": [
       "       class                                       conversation\n",
       "0      협박 대화  지금 너를 죽여달라고 애원하는 것인가? 아닙니다. 죄송합니다. 죽을 거면 혼자 죽지...\n",
       "1      협박 대화  길동경찰서입니다. 9시 40분 마트에 폭발물을 설치할거다. 네? 똑바로 들어 한번만...\n",
       "2  기타 괴롭힘 대화  너 되게 귀여운거? 나보다 작은 남자는 첨봤어. 그만해. 너 놀리는거 재미없어. 지...\n",
       "3      갈취 대화  어이 거기 예?? 그 말이야. 이리 와서 무슨 일. 너 옷 좋아보인다? 얘 돈 좀....\n",
       "4      갈취 대화  저기요 혹시 날이 너무 뜨겁잖아요? 저희 회사에서 이 선크림 파는데 한 번 손등에 ..."
      ]
     },
     "execution_count": 4,
     "metadata": {},
     "output_type": "execute_result"
    }
   ],
   "source": [
    "df_replaced = df_replaced.drop('class_encoded', axis=1)\n",
    "df_replaced.head()"
   ]
  },
  {
   "cell_type": "code",
   "execution_count": 5,
   "id": "303f6c39",
   "metadata": {},
   "outputs": [
    {
     "data": {
      "text/html": [
       "<div>\n",
       "<style scoped>\n",
       "    .dataframe tbody tr th:only-of-type {\n",
       "        vertical-align: middle;\n",
       "    }\n",
       "\n",
       "    .dataframe tbody tr th {\n",
       "        vertical-align: top;\n",
       "    }\n",
       "\n",
       "    .dataframe thead th {\n",
       "        text-align: right;\n",
       "    }\n",
       "</style>\n",
       "<table border=\"1\" class=\"dataframe\">\n",
       "  <thead>\n",
       "    <tr style=\"text-align: right;\">\n",
       "      <th></th>\n",
       "      <th>conversation</th>\n",
       "      <th>class</th>\n",
       "    </tr>\n",
       "  </thead>\n",
       "  <tbody>\n",
       "    <tr>\n",
       "      <th>0</th>\n",
       "      <td>너 왜 손가락이 네개야?\\n어???\\n와 진짜 신기하다\\n보지마.\\n아니 신기해서 ...</td>\n",
       "      <td>기타 괴롭힘 대화</td>\n",
       "    </tr>\n",
       "    <tr>\n",
       "      <th>1</th>\n",
       "      <td>그 길동구 국회의원님 비서분 되시죠? 네 맞습니다. 무슨 무슨 용건으로 전화 주셨습...</td>\n",
       "      <td>갈취 대화</td>\n",
       "    </tr>\n",
       "    <tr>\n",
       "      <th>2</th>\n",
       "      <td>너가 내 여자친구 좋아한다고 했냐?\\n 와 저런 오타쿠가 그랬다고? 꼴값이다 진짜....</td>\n",
       "      <td>기타 괴롭힘 대화</td>\n",
       "    </tr>\n",
       "    <tr>\n",
       "      <th>3</th>\n",
       "      <td>제주도에서  하면 벅수 못 갈 꺼 같은디...\\nㅠㅠ 벅수 ㅠㅠ\\n잠깐 어머니한테 ...</td>\n",
       "      <td>일반 대화</td>\n",
       "    </tr>\n",
       "    <tr>\n",
       "      <th>4</th>\n",
       "      <td>물은 어디에 있어요? 창가 쪽에 있어요</td>\n",
       "      <td>일반 대화</td>\n",
       "    </tr>\n",
       "    <tr>\n",
       "      <th>...</th>\n",
       "      <td>...</td>\n",
       "      <td>...</td>\n",
       "    </tr>\n",
       "    <tr>\n",
       "      <th>16690</th>\n",
       "      <td>＂자, 먼저 팽이버섯 2봉지를 준비했는데요.＂\\n＂팽이버섯은 밑동을 자른 뒤 한 번...</td>\n",
       "      <td>일반 대화</td>\n",
       "    </tr>\n",
       "    <tr>\n",
       "      <th>16691</th>\n",
       "      <td>＂자, 이 정도로 볶아졌으면 양념 재료를 넣어 볼게요.＂\\n＂처음으로 넣는 재료는 ...</td>\n",
       "      <td>일반 대화</td>\n",
       "    </tr>\n",
       "    <tr>\n",
       "      <th>16692</th>\n",
       "      <td>＂저는 저 마늘빵을 어디에 돌릴지 궁금해요.＂\\n＂전자레인지, 오븐, 에어프라이어,...</td>\n",
       "      <td>일반 대화</td>\n",
       "    </tr>\n",
       "    <tr>\n",
       "      <th>16693</th>\n",
       "      <td>＂젊고 건강하게 살고 싶다면 3대 호르몬을 관리해라.＂ \\n＂첫 번째로 알아볼 호르...</td>\n",
       "      <td>일반 대화</td>\n",
       "    </tr>\n",
       "    <tr>\n",
       "      <th>16694</th>\n",
       "      <td>＂지금부터 집중하세요.＂\\n＂본격적으로 옥수수 맛있게 삶는 법 알려 드릴게요.＂\\n...</td>\n",
       "      <td>일반 대화</td>\n",
       "    </tr>\n",
       "  </tbody>\n",
       "</table>\n",
       "<p>16695 rows × 2 columns</p>\n",
       "</div>"
      ],
      "text/plain": [
       "                                            conversation      class\n",
       "0      너 왜 손가락이 네개야?\\n어???\\n와 진짜 신기하다\\n보지마.\\n아니 신기해서 ...  기타 괴롭힘 대화\n",
       "1      그 길동구 국회의원님 비서분 되시죠? 네 맞습니다. 무슨 무슨 용건으로 전화 주셨습...      갈취 대화\n",
       "2      너가 내 여자친구 좋아한다고 했냐?\\n 와 저런 오타쿠가 그랬다고? 꼴값이다 진짜....  기타 괴롭힘 대화\n",
       "3      제주도에서  하면 벅수 못 갈 꺼 같은디...\\nㅠㅠ 벅수 ㅠㅠ\\n잠깐 어머니한테 ...      일반 대화\n",
       "4                                  물은 어디에 있어요? 창가 쪽에 있어요      일반 대화\n",
       "...                                                  ...        ...\n",
       "16690  ＂자, 먼저 팽이버섯 2봉지를 준비했는데요.＂\\n＂팽이버섯은 밑동을 자른 뒤 한 번...      일반 대화\n",
       "16691  ＂자, 이 정도로 볶아졌으면 양념 재료를 넣어 볼게요.＂\\n＂처음으로 넣는 재료는 ...      일반 대화\n",
       "16692  ＂저는 저 마늘빵을 어디에 돌릴지 궁금해요.＂\\n＂전자레인지, 오븐, 에어프라이어,...      일반 대화\n",
       "16693  ＂젊고 건강하게 살고 싶다면 3대 호르몬을 관리해라.＂ \\n＂첫 번째로 알아볼 호르...      일반 대화\n",
       "16694  ＂지금부터 집중하세요.＂\\n＂본격적으로 옥수수 맛있게 삶는 법 알려 드릴게요.＂\\n...      일반 대화\n",
       "\n",
       "[16695 rows x 2 columns]"
      ]
     },
     "execution_count": 5,
     "metadata": {},
     "output_type": "execute_result"
    }
   ],
   "source": [
    "df_total = df_total.drop('class_encoded', axis=1)\n",
    "df_total"
   ]
  },
  {
   "cell_type": "code",
   "execution_count": 6,
   "id": "1f049b8d",
   "metadata": {},
   "outputs": [
    {
     "data": {
      "text/plain": [
       "(4950, 3)"
      ]
     },
     "execution_count": 6,
     "metadata": {},
     "output_type": "execute_result"
    }
   ],
   "source": [
    "df_new = pd.concat([df_train, df_general], ignore_index=True)\n",
    "df_agumented = pd.concat([df_total, df_replaced], ignore_index=True)\n",
    "df_new['idx'] = df_new.index\n",
    "df_new.shape"
   ]
  },
  {
   "cell_type": "code",
   "execution_count": 7,
   "id": "bca625aa",
   "metadata": {},
   "outputs": [
    {
     "name": "stdout",
     "output_type": "stream",
     "text": [
      "기존: 4950\n",
      "중복 제거 후: 4846\n"
     ]
    }
   ],
   "source": [
    "removed = df_new.drop_duplicates(subset=['conversation']).reset_index(drop=True)\n",
    "print(f\"기존: {df_new.shape[0]}\")\n",
    "print(f\"중복 제거 후: {removed.shape[0]}\")\n",
    "\n",
    "df_new = removed"
   ]
  },
  {
   "cell_type": "code",
   "execution_count": 8,
   "id": "96433e6f",
   "metadata": {},
   "outputs": [
    {
     "name": "stdout",
     "output_type": "stream",
     "text": [
      "기존: 21530\n",
      "중복 제거 후: 21530\n"
     ]
    }
   ],
   "source": [
    "removed = df_agumented.drop_duplicates(subset=['conversation']).reset_index(drop=True)\n",
    "print(f\"기존: {df_agumented.shape[0]}\")\n",
    "print(f\"중복 제거 후: {removed.shape[0]}\")\n",
    "\n",
    "df_agumented = removed"
   ]
  },
  {
   "cell_type": "code",
   "execution_count": 9,
   "id": "e1e36a48",
   "metadata": {},
   "outputs": [
    {
     "data": {
      "text/plain": [
       "(26376, 3)"
      ]
     },
     "execution_count": 9,
     "metadata": {},
     "output_type": "execute_result"
    }
   ],
   "source": [
    "df_new = pd.concat([df_new, df_agumented], ignore_index=True)\n",
    "df_new['idx'] = df_new.index\n",
    "df_new.shape"
   ]
  },
  {
   "cell_type": "code",
   "execution_count": 10,
   "id": "293b7b1d",
   "metadata": {},
   "outputs": [
    {
     "name": "stdout",
     "output_type": "stream",
     "text": [
      "기존: 26376\n",
      "중복 제거 후: 26376\n"
     ]
    }
   ],
   "source": [
    "removed = df_new.drop_duplicates(subset=['conversation']).reset_index(drop=True)\n",
    "print(f\"기존: {df_new.shape[0]}\")\n",
    "print(f\"중복 제거 후: {df_new.shape[0]}\")\n",
    "\n",
    "df_new = removed"
   ]
  },
  {
   "cell_type": "code",
   "execution_count": 11,
   "id": "9386e0fe",
   "metadata": {},
   "outputs": [
    {
     "data": {
      "text/html": [
       "<div>\n",
       "<style scoped>\n",
       "    .dataframe tbody tr th:only-of-type {\n",
       "        vertical-align: middle;\n",
       "    }\n",
       "\n",
       "    .dataframe tbody tr th {\n",
       "        vertical-align: top;\n",
       "    }\n",
       "\n",
       "    .dataframe thead th {\n",
       "        text-align: right;\n",
       "    }\n",
       "</style>\n",
       "<table border=\"1\" class=\"dataframe\">\n",
       "  <thead>\n",
       "    <tr style=\"text-align: right;\">\n",
       "      <th></th>\n",
       "      <th>idx</th>\n",
       "      <th>class</th>\n",
       "      <th>conversation</th>\n",
       "    </tr>\n",
       "  </thead>\n",
       "  <tbody>\n",
       "    <tr>\n",
       "      <th>0</th>\n",
       "      <td>0</td>\n",
       "      <td>0</td>\n",
       "      <td>지금 너 스스로를 죽여달라고 애원하는 것인가?\\n 아닙니다. 죄송합니다.\\n 죽을 ...</td>\n",
       "    </tr>\n",
       "    <tr>\n",
       "      <th>1</th>\n",
       "      <td>1</td>\n",
       "      <td>0</td>\n",
       "      <td>길동경찰서입니다.\\n9시 40분 마트에 폭발물을 설치할거다.\\n네?\\n똑바로 들어 ...</td>\n",
       "    </tr>\n",
       "    <tr>\n",
       "      <th>2</th>\n",
       "      <td>2</td>\n",
       "      <td>3</td>\n",
       "      <td>너 되게 귀여운거 알지? 나보다 작은 남자는 첨봤어.\\n그만해. 니들 놀리는거 재미...</td>\n",
       "    </tr>\n",
       "    <tr>\n",
       "      <th>3</th>\n",
       "      <td>3</td>\n",
       "      <td>1</td>\n",
       "      <td>어이 거기\\n예??\\n너 말이야 너. 이리 오라고\\n무슨 일.\\n너 옷 좋아보인다?...</td>\n",
       "    </tr>\n",
       "    <tr>\n",
       "      <th>4</th>\n",
       "      <td>4</td>\n",
       "      <td>1</td>\n",
       "      <td>저기요 혹시 날이 너무 뜨겁잖아요? 저희 회사에서 이 선크림 파는데 한 번 손등에 ...</td>\n",
       "    </tr>\n",
       "  </tbody>\n",
       "</table>\n",
       "</div>"
      ],
      "text/plain": [
       "   idx  class                                       conversation\n",
       "0    0      0  지금 너 스스로를 죽여달라고 애원하는 것인가?\\n 아닙니다. 죄송합니다.\\n 죽을 ...\n",
       "1    1      0  길동경찰서입니다.\\n9시 40분 마트에 폭발물을 설치할거다.\\n네?\\n똑바로 들어 ...\n",
       "2    2      3  너 되게 귀여운거 알지? 나보다 작은 남자는 첨봤어.\\n그만해. 니들 놀리는거 재미...\n",
       "3    3      1  어이 거기\\n예??\\n너 말이야 너. 이리 오라고\\n무슨 일.\\n너 옷 좋아보인다?...\n",
       "4    4      1  저기요 혹시 날이 너무 뜨겁잖아요? 저희 회사에서 이 선크림 파는데 한 번 손등에 ..."
      ]
     },
     "execution_count": 11,
     "metadata": {},
     "output_type": "execute_result"
    }
   ],
   "source": [
    "def class_encoding(train_df, class_mapping):\n",
    "    df_new['class'] = df_new['class'].replace(class_mapping)\n",
    "    \n",
    "    return df_new\n",
    "\n",
    "class_mapping = {\n",
    "    \"협박 대화\": 0,\n",
    "    \"갈취 대화\": 1,\n",
    "    \"직장 내 괴롭힘 대화\": 2,\n",
    "    \"기타 괴롭힘 대화\": 3,\n",
    "    \"일반 대화\": 4\n",
    "}\n",
    "\n",
    "df_new = class_encoding(df_new, class_mapping)\n",
    "\n",
    "df_new.head()"
   ]
  },
  {
   "cell_type": "code",
   "execution_count": 12,
   "id": "e42ffd0b",
   "metadata": {},
   "outputs": [
    {
     "name": "stdout",
     "output_type": "stream",
     "text": [
      "Train size: 13725, Validation size: 9151\n"
     ]
    }
   ],
   "source": [
    "train_df = df_new.sample(frac=1, random_state=42).reset_index(drop=True)\n",
    "\n",
    "train_val_df, test_df = train_test_split(train_df, test_size=0.4, random_state=42, stratify=train_df['class'])\n",
    "\n",
    "print(f\"Train size: {len(train_val_df)}, Validation size: {len(test_df)}\")\n"
   ]
  },
  {
   "cell_type": "code",
   "execution_count": 13,
   "id": "7703addf",
   "metadata": {},
   "outputs": [],
   "source": [
    "train_val_df = pd.DataFrame(train_val_df)"
   ]
  },
  {
   "cell_type": "code",
   "execution_count": 14,
   "id": "ecdc67c2",
   "metadata": {},
   "outputs": [
    {
     "data": {
      "text/plain": [
       "(22876, 3)"
      ]
     },
     "execution_count": 14,
     "metadata": {},
     "output_type": "execute_result"
    }
   ],
   "source": [
    "df_agumented = pd.concat([df_total], ignore_index=True)\n",
    "df_agumented['idx'] = df_agumented.index\n",
    "\n",
    "agumented_df = class_encoding(df_agumented, class_mapping)\n",
    "\n",
    "agumented_df.shape"
   ]
  },
  {
   "cell_type": "code",
   "execution_count": 15,
   "id": "0e3d51e0",
   "metadata": {},
   "outputs": [
    {
     "data": {
      "text/plain": [
       "(36601, 3)"
      ]
     },
     "execution_count": 15,
     "metadata": {},
     "output_type": "execute_result"
    }
   ],
   "source": [
    "df_agumented = pd.concat([train_val_df, agumented_df], ignore_index=True)\n",
    "df_train = df_agumented.copy()\n",
    "df_train['idx'] = df_train.index\n",
    "\n",
    "df_train.shape\n"
   ]
  },
  {
   "cell_type": "code",
   "execution_count": 16,
   "id": "74c25b09",
   "metadata": {},
   "outputs": [],
   "source": [
    "def preprocess_sentence(sentence):\n",
    "    # 입력받은 sentence를 소문자로 변경하고 양쪽 공백을 제거\n",
    "    sentence = sentence.lower().strip()\n",
    "\n",
    "    # 개행 문자(\"\\n\")를 공백으로 변환\n",
    "    sentence = re.sub(r\"\\n\", \" \", sentence)\n",
    "\n",
    "    # 단어와 구두점(punctuation) 사이의 거리를 만듭니다.\n",
    "    # 예를 들어서 \"I am a student.\" => \"I am a student .\"와 같이\n",
    "    # student와 온점 사이에 거리를 만듭니다.\n",
    "    sentence = re.sub(r\"([?.!,])\", r\" \\1 \", sentence) # ?.!, 앞뒤로 공백 추가\n",
    "    sentence = re.sub(r'[\" \"]+', \" \", sentence) # 연속된 공백 한개의 공백으로\n",
    "\n",
    "    # (a-z, A-Z, \".\", \"?\", \"!\", \",\")를 제외한 모든 문자를 공백인 ' '로 대체합니다.\n",
    "    sentence = re.sub(r\"[^a-zA-Z\\u1100-\\u11FF\\uAC00-\\uD7AF.,?!]\", \" \", sentence)\n",
    "    sentence = sentence.strip()\n",
    "    return sentence\n",
    "df_train['conversation'] = df_train['conversation'].apply(preprocess_sentence)\n",
    "test_df['conversation'] = test_df['conversation'].apply(preprocess_sentence)"
   ]
  },
  {
   "cell_type": "code",
   "execution_count": 17,
   "id": "9395cb8e",
   "metadata": {},
   "outputs": [],
   "source": [
    "df_train  = pd.DataFrame(df_train)\n",
    "test_df  = pd.DataFrame(test_df)"
   ]
  },
  {
   "cell_type": "code",
   "execution_count": 18,
   "id": "dbfab698",
   "metadata": {},
   "outputs": [],
   "source": [
    "X = test_df['conversation']\n",
    "y = test_df['class']\n",
    "X_val, X_test, y_val, y_test = train_test_split(X, y, test_size=0.2, random_state=42)"
   ]
  },
  {
   "cell_type": "code",
   "execution_count": 19,
   "id": "4d7066c5",
   "metadata": {},
   "outputs": [],
   "source": [
    "X_train = df_train[\"conversation\"]\n",
    "y_train = df_train[\"class\"]"
   ]
  },
  {
   "cell_type": "code",
   "execution_count": 20,
   "id": "f3c62484",
   "metadata": {},
   "outputs": [
    {
     "data": {
      "text/plain": [
       "(36601, 3)"
      ]
     },
     "execution_count": 20,
     "metadata": {},
     "output_type": "execute_result"
    }
   ],
   "source": [
    "df_train.shape"
   ]
  },
  {
   "cell_type": "code",
   "execution_count": 21,
   "id": "ea01349a",
   "metadata": {},
   "outputs": [
    {
     "name": "stderr",
     "output_type": "stream",
     "text": [
      "Some weights of the model checkpoint at monologg/koelectra-base-v3-discriminator were not used when initializing ElectraForSequenceClassification: ['discriminator_predictions.dense.bias', 'discriminator_predictions.dense_prediction.bias', 'discriminator_predictions.dense.weight', 'discriminator_predictions.dense_prediction.weight']\n",
      "- This IS expected if you are initializing ElectraForSequenceClassification from the checkpoint of a model trained on another task or with another architecture (e.g. initializing a BertForSequenceClassification model from a BertForPreTraining model).\n",
      "- This IS NOT expected if you are initializing ElectraForSequenceClassification from the checkpoint of a model that you expect to be exactly identical (initializing a BertForSequenceClassification model from a BertForSequenceClassification model).\n",
      "Some weights of ElectraForSequenceClassification were not initialized from the model checkpoint at monologg/koelectra-base-v3-discriminator and are newly initialized: ['classifier.dense.weight', 'classifier.out_proj.weight', 'classifier.out_proj.bias', 'classifier.dense.bias']\n",
      "You should probably TRAIN this model on a down-stream task to be able to use it for predictions and inference.\n"
     ]
    },
    {
     "data": {
      "text/plain": [
       "ElectraForSequenceClassification(\n",
       "  (electra): ElectraModel(\n",
       "    (embeddings): ElectraEmbeddings(\n",
       "      (word_embeddings): Embedding(35000, 768, padding_idx=0)\n",
       "      (position_embeddings): Embedding(512, 768)\n",
       "      (token_type_embeddings): Embedding(2, 768)\n",
       "      (LayerNorm): LayerNorm((768,), eps=1e-12, elementwise_affine=True)\n",
       "      (dropout): Dropout(p=0.1, inplace=False)\n",
       "    )\n",
       "    (encoder): ElectraEncoder(\n",
       "      (layer): ModuleList(\n",
       "        (0): ElectraLayer(\n",
       "          (attention): ElectraAttention(\n",
       "            (self): ElectraSelfAttention(\n",
       "              (query): Linear(in_features=768, out_features=768, bias=True)\n",
       "              (key): Linear(in_features=768, out_features=768, bias=True)\n",
       "              (value): Linear(in_features=768, out_features=768, bias=True)\n",
       "              (dropout): Dropout(p=0.1, inplace=False)\n",
       "            )\n",
       "            (output): ElectraSelfOutput(\n",
       "              (dense): Linear(in_features=768, out_features=768, bias=True)\n",
       "              (LayerNorm): LayerNorm((768,), eps=1e-12, elementwise_affine=True)\n",
       "              (dropout): Dropout(p=0.1, inplace=False)\n",
       "            )\n",
       "          )\n",
       "          (intermediate): ElectraIntermediate(\n",
       "            (dense): Linear(in_features=768, out_features=3072, bias=True)\n",
       "          )\n",
       "          (output): ElectraOutput(\n",
       "            (dense): Linear(in_features=3072, out_features=768, bias=True)\n",
       "            (LayerNorm): LayerNorm((768,), eps=1e-12, elementwise_affine=True)\n",
       "            (dropout): Dropout(p=0.1, inplace=False)\n",
       "          )\n",
       "        )\n",
       "        (1): ElectraLayer(\n",
       "          (attention): ElectraAttention(\n",
       "            (self): ElectraSelfAttention(\n",
       "              (query): Linear(in_features=768, out_features=768, bias=True)\n",
       "              (key): Linear(in_features=768, out_features=768, bias=True)\n",
       "              (value): Linear(in_features=768, out_features=768, bias=True)\n",
       "              (dropout): Dropout(p=0.1, inplace=False)\n",
       "            )\n",
       "            (output): ElectraSelfOutput(\n",
       "              (dense): Linear(in_features=768, out_features=768, bias=True)\n",
       "              (LayerNorm): LayerNorm((768,), eps=1e-12, elementwise_affine=True)\n",
       "              (dropout): Dropout(p=0.1, inplace=False)\n",
       "            )\n",
       "          )\n",
       "          (intermediate): ElectraIntermediate(\n",
       "            (dense): Linear(in_features=768, out_features=3072, bias=True)\n",
       "          )\n",
       "          (output): ElectraOutput(\n",
       "            (dense): Linear(in_features=3072, out_features=768, bias=True)\n",
       "            (LayerNorm): LayerNorm((768,), eps=1e-12, elementwise_affine=True)\n",
       "            (dropout): Dropout(p=0.1, inplace=False)\n",
       "          )\n",
       "        )\n",
       "        (2): ElectraLayer(\n",
       "          (attention): ElectraAttention(\n",
       "            (self): ElectraSelfAttention(\n",
       "              (query): Linear(in_features=768, out_features=768, bias=True)\n",
       "              (key): Linear(in_features=768, out_features=768, bias=True)\n",
       "              (value): Linear(in_features=768, out_features=768, bias=True)\n",
       "              (dropout): Dropout(p=0.1, inplace=False)\n",
       "            )\n",
       "            (output): ElectraSelfOutput(\n",
       "              (dense): Linear(in_features=768, out_features=768, bias=True)\n",
       "              (LayerNorm): LayerNorm((768,), eps=1e-12, elementwise_affine=True)\n",
       "              (dropout): Dropout(p=0.1, inplace=False)\n",
       "            )\n",
       "          )\n",
       "          (intermediate): ElectraIntermediate(\n",
       "            (dense): Linear(in_features=768, out_features=3072, bias=True)\n",
       "          )\n",
       "          (output): ElectraOutput(\n",
       "            (dense): Linear(in_features=3072, out_features=768, bias=True)\n",
       "            (LayerNorm): LayerNorm((768,), eps=1e-12, elementwise_affine=True)\n",
       "            (dropout): Dropout(p=0.1, inplace=False)\n",
       "          )\n",
       "        )\n",
       "        (3): ElectraLayer(\n",
       "          (attention): ElectraAttention(\n",
       "            (self): ElectraSelfAttention(\n",
       "              (query): Linear(in_features=768, out_features=768, bias=True)\n",
       "              (key): Linear(in_features=768, out_features=768, bias=True)\n",
       "              (value): Linear(in_features=768, out_features=768, bias=True)\n",
       "              (dropout): Dropout(p=0.1, inplace=False)\n",
       "            )\n",
       "            (output): ElectraSelfOutput(\n",
       "              (dense): Linear(in_features=768, out_features=768, bias=True)\n",
       "              (LayerNorm): LayerNorm((768,), eps=1e-12, elementwise_affine=True)\n",
       "              (dropout): Dropout(p=0.1, inplace=False)\n",
       "            )\n",
       "          )\n",
       "          (intermediate): ElectraIntermediate(\n",
       "            (dense): Linear(in_features=768, out_features=3072, bias=True)\n",
       "          )\n",
       "          (output): ElectraOutput(\n",
       "            (dense): Linear(in_features=3072, out_features=768, bias=True)\n",
       "            (LayerNorm): LayerNorm((768,), eps=1e-12, elementwise_affine=True)\n",
       "            (dropout): Dropout(p=0.1, inplace=False)\n",
       "          )\n",
       "        )\n",
       "        (4): ElectraLayer(\n",
       "          (attention): ElectraAttention(\n",
       "            (self): ElectraSelfAttention(\n",
       "              (query): Linear(in_features=768, out_features=768, bias=True)\n",
       "              (key): Linear(in_features=768, out_features=768, bias=True)\n",
       "              (value): Linear(in_features=768, out_features=768, bias=True)\n",
       "              (dropout): Dropout(p=0.1, inplace=False)\n",
       "            )\n",
       "            (output): ElectraSelfOutput(\n",
       "              (dense): Linear(in_features=768, out_features=768, bias=True)\n",
       "              (LayerNorm): LayerNorm((768,), eps=1e-12, elementwise_affine=True)\n",
       "              (dropout): Dropout(p=0.1, inplace=False)\n",
       "            )\n",
       "          )\n",
       "          (intermediate): ElectraIntermediate(\n",
       "            (dense): Linear(in_features=768, out_features=3072, bias=True)\n",
       "          )\n",
       "          (output): ElectraOutput(\n",
       "            (dense): Linear(in_features=3072, out_features=768, bias=True)\n",
       "            (LayerNorm): LayerNorm((768,), eps=1e-12, elementwise_affine=True)\n",
       "            (dropout): Dropout(p=0.1, inplace=False)\n",
       "          )\n",
       "        )\n",
       "        (5): ElectraLayer(\n",
       "          (attention): ElectraAttention(\n",
       "            (self): ElectraSelfAttention(\n",
       "              (query): Linear(in_features=768, out_features=768, bias=True)\n",
       "              (key): Linear(in_features=768, out_features=768, bias=True)\n",
       "              (value): Linear(in_features=768, out_features=768, bias=True)\n",
       "              (dropout): Dropout(p=0.1, inplace=False)\n",
       "            )\n",
       "            (output): ElectraSelfOutput(\n",
       "              (dense): Linear(in_features=768, out_features=768, bias=True)\n",
       "              (LayerNorm): LayerNorm((768,), eps=1e-12, elementwise_affine=True)\n",
       "              (dropout): Dropout(p=0.1, inplace=False)\n",
       "            )\n",
       "          )\n",
       "          (intermediate): ElectraIntermediate(\n",
       "            (dense): Linear(in_features=768, out_features=3072, bias=True)\n",
       "          )\n",
       "          (output): ElectraOutput(\n",
       "            (dense): Linear(in_features=3072, out_features=768, bias=True)\n",
       "            (LayerNorm): LayerNorm((768,), eps=1e-12, elementwise_affine=True)\n",
       "            (dropout): Dropout(p=0.1, inplace=False)\n",
       "          )\n",
       "        )\n",
       "        (6): ElectraLayer(\n",
       "          (attention): ElectraAttention(\n",
       "            (self): ElectraSelfAttention(\n",
       "              (query): Linear(in_features=768, out_features=768, bias=True)\n",
       "              (key): Linear(in_features=768, out_features=768, bias=True)\n",
       "              (value): Linear(in_features=768, out_features=768, bias=True)\n",
       "              (dropout): Dropout(p=0.1, inplace=False)\n",
       "            )\n",
       "            (output): ElectraSelfOutput(\n",
       "              (dense): Linear(in_features=768, out_features=768, bias=True)\n",
       "              (LayerNorm): LayerNorm((768,), eps=1e-12, elementwise_affine=True)\n",
       "              (dropout): Dropout(p=0.1, inplace=False)\n",
       "            )\n",
       "          )\n",
       "          (intermediate): ElectraIntermediate(\n",
       "            (dense): Linear(in_features=768, out_features=3072, bias=True)\n",
       "          )\n",
       "          (output): ElectraOutput(\n",
       "            (dense): Linear(in_features=3072, out_features=768, bias=True)\n",
       "            (LayerNorm): LayerNorm((768,), eps=1e-12, elementwise_affine=True)\n",
       "            (dropout): Dropout(p=0.1, inplace=False)\n",
       "          )\n",
       "        )\n",
       "        (7): ElectraLayer(\n",
       "          (attention): ElectraAttention(\n",
       "            (self): ElectraSelfAttention(\n",
       "              (query): Linear(in_features=768, out_features=768, bias=True)\n",
       "              (key): Linear(in_features=768, out_features=768, bias=True)\n",
       "              (value): Linear(in_features=768, out_features=768, bias=True)\n",
       "              (dropout): Dropout(p=0.1, inplace=False)\n",
       "            )\n",
       "            (output): ElectraSelfOutput(\n",
       "              (dense): Linear(in_features=768, out_features=768, bias=True)\n",
       "              (LayerNorm): LayerNorm((768,), eps=1e-12, elementwise_affine=True)\n",
       "              (dropout): Dropout(p=0.1, inplace=False)\n",
       "            )\n",
       "          )\n",
       "          (intermediate): ElectraIntermediate(\n",
       "            (dense): Linear(in_features=768, out_features=3072, bias=True)\n",
       "          )\n",
       "          (output): ElectraOutput(\n",
       "            (dense): Linear(in_features=3072, out_features=768, bias=True)\n",
       "            (LayerNorm): LayerNorm((768,), eps=1e-12, elementwise_affine=True)\n",
       "            (dropout): Dropout(p=0.1, inplace=False)\n",
       "          )\n",
       "        )\n",
       "        (8): ElectraLayer(\n",
       "          (attention): ElectraAttention(\n",
       "            (self): ElectraSelfAttention(\n",
       "              (query): Linear(in_features=768, out_features=768, bias=True)\n",
       "              (key): Linear(in_features=768, out_features=768, bias=True)\n",
       "              (value): Linear(in_features=768, out_features=768, bias=True)\n",
       "              (dropout): Dropout(p=0.1, inplace=False)\n",
       "            )\n",
       "            (output): ElectraSelfOutput(\n",
       "              (dense): Linear(in_features=768, out_features=768, bias=True)\n",
       "              (LayerNorm): LayerNorm((768,), eps=1e-12, elementwise_affine=True)\n",
       "              (dropout): Dropout(p=0.1, inplace=False)\n",
       "            )\n",
       "          )\n",
       "          (intermediate): ElectraIntermediate(\n",
       "            (dense): Linear(in_features=768, out_features=3072, bias=True)\n",
       "          )\n",
       "          (output): ElectraOutput(\n",
       "            (dense): Linear(in_features=3072, out_features=768, bias=True)\n",
       "            (LayerNorm): LayerNorm((768,), eps=1e-12, elementwise_affine=True)\n",
       "            (dropout): Dropout(p=0.1, inplace=False)\n",
       "          )\n",
       "        )\n",
       "        (9): ElectraLayer(\n",
       "          (attention): ElectraAttention(\n",
       "            (self): ElectraSelfAttention(\n",
       "              (query): Linear(in_features=768, out_features=768, bias=True)\n",
       "              (key): Linear(in_features=768, out_features=768, bias=True)\n",
       "              (value): Linear(in_features=768, out_features=768, bias=True)\n",
       "              (dropout): Dropout(p=0.1, inplace=False)\n",
       "            )\n",
       "            (output): ElectraSelfOutput(\n",
       "              (dense): Linear(in_features=768, out_features=768, bias=True)\n",
       "              (LayerNorm): LayerNorm((768,), eps=1e-12, elementwise_affine=True)\n",
       "              (dropout): Dropout(p=0.1, inplace=False)\n",
       "            )\n",
       "          )\n",
       "          (intermediate): ElectraIntermediate(\n",
       "            (dense): Linear(in_features=768, out_features=3072, bias=True)\n",
       "          )\n",
       "          (output): ElectraOutput(\n",
       "            (dense): Linear(in_features=3072, out_features=768, bias=True)\n",
       "            (LayerNorm): LayerNorm((768,), eps=1e-12, elementwise_affine=True)\n",
       "            (dropout): Dropout(p=0.1, inplace=False)\n",
       "          )\n",
       "        )\n",
       "        (10): ElectraLayer(\n",
       "          (attention): ElectraAttention(\n",
       "            (self): ElectraSelfAttention(\n",
       "              (query): Linear(in_features=768, out_features=768, bias=True)\n",
       "              (key): Linear(in_features=768, out_features=768, bias=True)\n",
       "              (value): Linear(in_features=768, out_features=768, bias=True)\n",
       "              (dropout): Dropout(p=0.1, inplace=False)\n",
       "            )\n",
       "            (output): ElectraSelfOutput(\n",
       "              (dense): Linear(in_features=768, out_features=768, bias=True)\n",
       "              (LayerNorm): LayerNorm((768,), eps=1e-12, elementwise_affine=True)\n",
       "              (dropout): Dropout(p=0.1, inplace=False)\n",
       "            )\n",
       "          )\n",
       "          (intermediate): ElectraIntermediate(\n",
       "            (dense): Linear(in_features=768, out_features=3072, bias=True)\n",
       "          )\n",
       "          (output): ElectraOutput(\n",
       "            (dense): Linear(in_features=3072, out_features=768, bias=True)\n",
       "            (LayerNorm): LayerNorm((768,), eps=1e-12, elementwise_affine=True)\n",
       "            (dropout): Dropout(p=0.1, inplace=False)\n",
       "          )\n",
       "        )\n",
       "        (11): ElectraLayer(\n",
       "          (attention): ElectraAttention(\n",
       "            (self): ElectraSelfAttention(\n",
       "              (query): Linear(in_features=768, out_features=768, bias=True)\n",
       "              (key): Linear(in_features=768, out_features=768, bias=True)\n",
       "              (value): Linear(in_features=768, out_features=768, bias=True)\n",
       "              (dropout): Dropout(p=0.1, inplace=False)\n",
       "            )\n",
       "            (output): ElectraSelfOutput(\n",
       "              (dense): Linear(in_features=768, out_features=768, bias=True)\n",
       "              (LayerNorm): LayerNorm((768,), eps=1e-12, elementwise_affine=True)\n",
       "              (dropout): Dropout(p=0.1, inplace=False)\n",
       "            )\n",
       "          )\n",
       "          (intermediate): ElectraIntermediate(\n",
       "            (dense): Linear(in_features=768, out_features=3072, bias=True)\n",
       "          )\n",
       "          (output): ElectraOutput(\n",
       "            (dense): Linear(in_features=3072, out_features=768, bias=True)\n",
       "            (LayerNorm): LayerNorm((768,), eps=1e-12, elementwise_affine=True)\n",
       "            (dropout): Dropout(p=0.1, inplace=False)\n",
       "          )\n",
       "        )\n",
       "      )\n",
       "    )\n",
       "  )\n",
       "  (classifier): ElectraClassificationHead(\n",
       "    (dense): Linear(in_features=768, out_features=768, bias=True)\n",
       "    (dropout): Dropout(p=0.1, inplace=False)\n",
       "    (out_proj): Linear(in_features=768, out_features=5, bias=True)\n",
       "  )\n",
       ")"
      ]
     },
     "execution_count": 21,
     "metadata": {},
     "output_type": "execute_result"
    }
   ],
   "source": [
    "import torch\n",
    "from torch.utils.data import DataLoader\n",
    "from transformers import ElectraForSequenceClassification, ElectraTokenizer\n",
    "from sklearn.metrics import accuracy_score, f1_score, classification_report\n",
    "from tqdm import tqdm\n",
    "\n",
    "device = torch.device(\"cuda\" if torch.cuda.is_available() else \"cpu\")\n",
    "\n",
    "model_path = \"monologg/koelectra-base-v3-discriminator\"\n",
    "tokenizer = ElectraTokenizer.from_pretrained(model_path)\n",
    "model = ElectraForSequenceClassification.from_pretrained(model_path, num_labels=5)\n",
    "model.to(device)"
   ]
  },
  {
   "cell_type": "code",
   "execution_count": 23,
   "id": "c5baa4e9",
   "metadata": {},
   "outputs": [],
   "source": [
    "optimizer = torch.optim.AdamW(model.parameters(), lr=2e-5)\n",
    "criterion = torch.nn.CrossEntropyLoss()"
   ]
  },
  {
   "cell_type": "code",
   "execution_count": 57,
   "id": "a375f0b0",
   "metadata": {},
   "outputs": [
    {
     "name": "stdout",
     "output_type": "stream",
     "text": [
      "{'input_ids': [2, 817, 4718, 302, 6174, 10615, 6262, 5814, 35, 3753, 35, 3579, 35, 10594, 2863, 5991, 6038, 4718, 3810, 5760, 24764, 5812, 454, 1903, 3965, 16483, 5853, 6649, 5905, 4718, 21824, 5801, 6290, 13172, 3965, 1110, 3777, 6701, 5855, 5842, 11616, 5905, 35, 10594, 24310, 35, 28500, 19325, 24293, 5802, 821, 817, 12146, 31164, 10561, 817, 13806, 5665, 1903, 25471, 31785, 3579, 16483, 16319, 5815, 14664, 6010, 18798, 16319, 21701, 18, 10594, 10594, 28500, 1916, 21701, 817, 4718, 2049, 5766, 6791, 21701, 10717, 761, 11306, 6010, 31164, 15156, 35, 817, 11772, 30298, 5842, 20282, 821, 12575, 10663, 3777, 6701, 10639, 5842, 5728, 10841, 10594, 21701, 18, 10924, 817, 3812, 10928, 18, 3], 'token_type_ids': [0, 0, 0, 0, 0, 0, 0, 0, 0, 0, 0, 0, 0, 0, 0, 0, 0, 0, 0, 0, 0, 0, 0, 0, 0, 0, 0, 0, 0, 0, 0, 0, 0, 0, 0, 0, 0, 0, 0, 0, 0, 0, 0, 0, 0, 0, 0, 0, 0, 0, 0, 0, 0, 0, 0, 0, 0, 0, 0, 0, 0, 0, 0, 0, 0, 0, 0, 0, 0, 0, 0, 0, 0, 0, 0, 0, 0, 0, 0, 0, 0, 0, 0, 0, 0, 0, 0, 0, 0, 0, 0, 0, 0, 0, 0, 0, 0, 0, 0, 0, 0, 0, 0, 0, 0, 0, 0, 0, 0, 0, 0, 0], 'attention_mask': [1, 1, 1, 1, 1, 1, 1, 1, 1, 1, 1, 1, 1, 1, 1, 1, 1, 1, 1, 1, 1, 1, 1, 1, 1, 1, 1, 1, 1, 1, 1, 1, 1, 1, 1, 1, 1, 1, 1, 1, 1, 1, 1, 1, 1, 1, 1, 1, 1, 1, 1, 1, 1, 1, 1, 1, 1, 1, 1, 1, 1, 1, 1, 1, 1, 1, 1, 1, 1, 1, 1, 1, 1, 1, 1, 1, 1, 1, 1, 1, 1, 1, 1, 1, 1, 1, 1, 1, 1, 1, 1, 1, 1, 1, 1, 1, 1, 1, 1, 1, 1, 1, 1, 1, 1, 1, 1, 1, 1, 1, 1, 1]}\n"
     ]
    }
   ],
   "source": [
    "def encode_data(texts, labels):\n",
    "    encodings = tokenizer(texts, truncation=True, padding=True, max_length=128)\n",
    "    print(encodings)\n",
    "#     return torch.tensor(encodings['input_ids']), torch.tensor(labels)\n",
    "\n",
    "input_test = encode_data(X_train.tolist()[0], y_train.tolist()[0])"
   ]
  },
  {
   "cell_type": "code",
   "execution_count": 61,
   "id": "72044f15",
   "metadata": {},
   "outputs": [],
   "source": [
    "# 파인튜닝에 제대로 안되는 이유로 추정, 추후 다시 수정 예정"
   ]
  },
  {
   "cell_type": "code",
   "execution_count": 24,
   "id": "1501f601",
   "metadata": {},
   "outputs": [],
   "source": [
    "def encode_data(texts, labels):\n",
    "    encodings = tokenizer(texts, truncation=True, padding=True, max_length=128)\n",
    "    return torch.tensor(encodings['input_ids']), torch.tensor(labels)\n",
    "\n",
    "train_inputs, train_labels = encode_data(X_train.tolist(), y_train.tolist())\n",
    "val_inputs, val_labels = encode_data(X_val.tolist(), y_val.tolist())\n",
    "\n",
    "train_dataset = torch.utils.data.TensorDataset(train_inputs, train_labels)\n",
    "val_dataset = torch.utils.data.TensorDataset(val_inputs, val_labels)\n",
    "\n",
    "train_dataloader = DataLoader(train_dataset, batch_size=8, shuffle=True)\n",
    "val_dataloader = DataLoader(val_dataset, batch_size=8, shuffle=False)"
   ]
  },
  {
   "cell_type": "code",
   "execution_count": 267,
   "id": "d79807c3",
   "metadata": {},
   "outputs": [],
   "source": [
    "#Test"
   ]
  },
  {
   "cell_type": "code",
   "execution_count": 268,
   "id": "ea31fa4e",
   "metadata": {},
   "outputs": [],
   "source": [
    "# def encode_data(texts, labels):\n",
    "#     encodings = tokenizer(texts, truncation=True, padding=True, max_length=128)\n",
    "#     return torch.tensor(encodings['input_ids']), torch.tensor(labels)"
   ]
  },
  {
   "cell_type": "code",
   "execution_count": 269,
   "id": "eb1b4a44",
   "metadata": {},
   "outputs": [],
   "source": [
    "for param in model.parameters():\n",
    "    param.requires_grad = False\n",
    "\n",
    "for param in model.electra.encoder.layer[-1].parameters():  # 마지막 1개 레이어\n",
    "    param.requires_grad = True\n",
    "\n",
    "for param in model.classifier.parameters():  # classifier 레이어\n",
    "    param.requires_grad = True"
   ]
  },
  {
   "cell_type": "code",
   "execution_count": 28,
   "id": "00414d22",
   "metadata": {},
   "outputs": [],
   "source": [
    "def train(model, train_dataloader, optimizer, criterion):\n",
    "    model.train()  \n",
    "    total_loss = 0\n",
    "    correct_preds = 0\n",
    "    total_preds = 0\n",
    "    for batch in tqdm(train_dataloader, desc=\"Training\"):\n",
    "        inputs, labels = batch\n",
    "        inputs = inputs.to(device)\n",
    "        labels = labels.to(device)\n",
    "\n",
    "        optimizer.zero_grad()\n",
    "        \n",
    "        outputs = model(inputs)\n",
    "        logits = outputs.logits\n",
    "        loss = criterion(logits, labels)\n",
    "        \n",
    "        loss.backward()\n",
    "        optimizer.step()\n",
    "\n",
    "        total_loss += loss.item()\n",
    "\n",
    "        preds = logits.argmax(dim=-1)\n",
    "        correct_preds += (preds == labels).sum().item()\n",
    "        total_preds += labels.size(0)\n",
    "\n",
    "    avg_loss = total_loss / len(train_dataloader)\n",
    "    accuracy = correct_preds / total_preds\n",
    "\n",
    "    return avg_loss, accuracy\n",
    "\n",
    "def evaluate(model, val_dataloader, criterion):\n",
    "    model.eval()  \n",
    "    total_loss = 0\n",
    "    correct_preds = 0\n",
    "    total_preds = 0\n",
    "    all_labels = []\n",
    "    all_preds = []\n",
    "    \n",
    "    with torch.no_grad():\n",
    "        for batch in tqdm(val_dataloader, desc=\"Evaluating\"):\n",
    "            inputs, labels = batch\n",
    "            inputs = inputs.to(device)\n",
    "            labels = labels.to(device)\n",
    "\n",
    "            outputs = model(inputs)\n",
    "            logits = outputs.logits\n",
    "            loss = criterion(logits, labels)\n",
    "\n",
    "            total_loss += loss.item()\n",
    "\n",
    "            preds = logits.argmax(dim=-1)\n",
    "            correct_preds += (preds == labels).sum().item()\n",
    "            total_preds += labels.size(0)\n",
    "\n",
    "            all_labels.extend(labels.cpu().numpy())\n",
    "            all_preds.extend(preds.cpu().numpy())\n",
    "\n",
    "    avg_loss = total_loss / len(val_dataloader)\n",
    "    accuracy = correct_preds / total_preds\n",
    "    f1 = f1_score(all_labels, all_preds, average='weighted')\n",
    "    \n",
    "    return avg_loss, accuracy, f1, classification_report(all_labels, all_preds)"
   ]
  },
  {
   "cell_type": "code",
   "execution_count": 271,
   "id": "72765280",
   "metadata": {},
   "outputs": [
    {
     "name": "stdout",
     "output_type": "stream",
     "text": [
      "Epoch 1/5\n"
     ]
    },
    {
     "name": "stderr",
     "output_type": "stream",
     "text": [
      "Training: 100%|██████████| 4576/4576 [05:27<00:00, 13.96it/s]\n"
     ]
    },
    {
     "name": "stdout",
     "output_type": "stream",
     "text": [
      "Train Loss: 0.4245, Train Accuracy: 0.8312\n"
     ]
    },
    {
     "name": "stderr",
     "output_type": "stream",
     "text": [
      "Evaluating: 100%|██████████| 915/915 [00:55<00:00, 16.46it/s]\n"
     ]
    },
    {
     "name": "stdout",
     "output_type": "stream",
     "text": [
      "Validation Loss: 0.2327, Validation Accuracy: 0.9117, F1 Score: 0.9117\n",
      "Classification Report:\n",
      "               precision    recall  f1-score   support\n",
      "\n",
      "           0       0.89      0.74      0.81       865\n",
      "           1       0.70      0.95      0.80       933\n",
      "           2       0.92      0.90      0.91       914\n",
      "           3       0.88      0.71      0.79       964\n",
      "           4       1.00      1.00      1.00      3644\n",
      "\n",
      "    accuracy                           0.91      7320\n",
      "   macro avg       0.87      0.86      0.86      7320\n",
      "weighted avg       0.92      0.91      0.91      7320\n",
      "\n",
      "Epoch 2/5\n"
     ]
    },
    {
     "name": "stderr",
     "output_type": "stream",
     "text": [
      "Training: 100%|██████████| 4576/4576 [05:27<00:00, 13.97it/s]\n"
     ]
    },
    {
     "name": "stdout",
     "output_type": "stream",
     "text": [
      "Train Loss: 0.1892, Train Accuracy: 0.9311\n"
     ]
    },
    {
     "name": "stderr",
     "output_type": "stream",
     "text": [
      "Evaluating: 100%|██████████| 915/915 [00:55<00:00, 16.46it/s]\n"
     ]
    },
    {
     "name": "stdout",
     "output_type": "stream",
     "text": [
      "Validation Loss: 0.1325, Validation Accuracy: 0.9531, F1 Score: 0.9528\n",
      "Classification Report:\n",
      "               precision    recall  f1-score   support\n",
      "\n",
      "           0       0.86      0.93      0.89       865\n",
      "           1       0.88      0.93      0.90       933\n",
      "           2       0.94      0.97      0.96       914\n",
      "           3       0.96      0.80      0.88       964\n",
      "           4       1.00      1.00      1.00      3644\n",
      "\n",
      "    accuracy                           0.95      7320\n",
      "   macro avg       0.93      0.93      0.93      7320\n",
      "weighted avg       0.95      0.95      0.95      7320\n",
      "\n",
      "Epoch 3/5\n"
     ]
    },
    {
     "name": "stderr",
     "output_type": "stream",
     "text": [
      "Training: 100%|██████████| 4576/4576 [05:27<00:00, 13.98it/s]\n"
     ]
    },
    {
     "name": "stdout",
     "output_type": "stream",
     "text": [
      "Train Loss: 0.1252, Train Accuracy: 0.9555\n"
     ]
    },
    {
     "name": "stderr",
     "output_type": "stream",
     "text": [
      "Evaluating: 100%|██████████| 915/915 [00:55<00:00, 16.43it/s]\n"
     ]
    },
    {
     "name": "stdout",
     "output_type": "stream",
     "text": [
      "Validation Loss: 0.0705, Validation Accuracy: 0.9754, F1 Score: 0.9753\n",
      "Classification Report:\n",
      "               precision    recall  f1-score   support\n",
      "\n",
      "           0       0.97      0.89      0.93       865\n",
      "           1       0.93      0.96      0.95       933\n",
      "           2       0.98      0.99      0.99       914\n",
      "           3       0.93      0.96      0.95       964\n",
      "           4       1.00      1.00      1.00      3644\n",
      "\n",
      "    accuracy                           0.98      7320\n",
      "   macro avg       0.96      0.96      0.96      7320\n",
      "weighted avg       0.98      0.98      0.98      7320\n",
      "\n",
      "Epoch 4/5\n"
     ]
    },
    {
     "name": "stderr",
     "output_type": "stream",
     "text": [
      "Training: 100%|██████████| 4576/4576 [05:27<00:00, 13.98it/s]\n"
     ]
    },
    {
     "name": "stdout",
     "output_type": "stream",
     "text": [
      "Train Loss: 0.0862, Train Accuracy: 0.9686\n"
     ]
    },
    {
     "name": "stderr",
     "output_type": "stream",
     "text": [
      "Evaluating: 100%|██████████| 915/915 [00:55<00:00, 16.47it/s]\n"
     ]
    },
    {
     "name": "stdout",
     "output_type": "stream",
     "text": [
      "Validation Loss: 0.0403, Validation Accuracy: 0.9867, F1 Score: 0.9867\n",
      "Classification Report:\n",
      "               precision    recall  f1-score   support\n",
      "\n",
      "           0       0.98      0.94      0.96       865\n",
      "           1       0.97      0.98      0.97       933\n",
      "           2       0.99      1.00      0.99       914\n",
      "           3       0.96      0.98      0.97       964\n",
      "           4       1.00      1.00      1.00      3644\n",
      "\n",
      "    accuracy                           0.99      7320\n",
      "   macro avg       0.98      0.98      0.98      7320\n",
      "weighted avg       0.99      0.99      0.99      7320\n",
      "\n",
      "Epoch 5/5\n"
     ]
    },
    {
     "name": "stderr",
     "output_type": "stream",
     "text": [
      "Training: 100%|██████████| 4576/4576 [05:27<00:00, 13.99it/s]\n"
     ]
    },
    {
     "name": "stdout",
     "output_type": "stream",
     "text": [
      "Train Loss: 0.0628, Train Accuracy: 0.9777\n"
     ]
    },
    {
     "name": "stderr",
     "output_type": "stream",
     "text": [
      "Evaluating: 100%|██████████| 915/915 [00:55<00:00, 16.46it/s]\n"
     ]
    },
    {
     "name": "stdout",
     "output_type": "stream",
     "text": [
      "Validation Loss: 0.0244, Validation Accuracy: 0.9925, F1 Score: 0.9925\n",
      "Classification Report:\n",
      "               precision    recall  f1-score   support\n",
      "\n",
      "           0       0.99      0.97      0.98       865\n",
      "           1       0.99      0.98      0.98       933\n",
      "           2       0.99      1.00      0.99       914\n",
      "           3       0.98      0.99      0.98       964\n",
      "           4       1.00      1.00      1.00      3644\n",
      "\n",
      "    accuracy                           0.99      7320\n",
      "   macro avg       0.99      0.99      0.99      7320\n",
      "weighted avg       0.99      0.99      0.99      7320\n",
      "\n"
     ]
    },
    {
     "data": {
      "image/png": "[encoded data removed]",
      "text/plain": [
       "<Figure size 720x360 with 1 Axes>"
      ]
     },
     "metadata": {
      "needs_background": "light"
     },
     "output_type": "display_data"
    },
    {
     "data": {
      "image/png": "[encoded data removed]",
      "text/plain": [
       "<Figure size 720x360 with 1 Axes>"
      ]
     },
     "metadata": {
      "needs_background": "light"
     },
     "output_type": "display_data"
    }
   ],
   "source": [
    "#Train & Evaluation\n",
    "import matplotlib.pyplot as plt\n",
    "\n",
    "train_losses = []\n",
    "train_accuracies = []\n",
    "val_losses = []\n",
    "val_accuracies = []\n",
    "\n",
    "num_epochs = 5  \n",
    "\n",
    "for epoch in range(num_epochs):\n",
    "    print(f\"Epoch {epoch + 1}/{num_epochs}\")\n",
    "    \n",
    "    # Training\n",
    "    train_loss, train_accuracy = train(model, train_dataloader, optimizer, criterion)\n",
    "    train_losses.append(train_loss)\n",
    "    train_accuracies.append(train_accuracy)\n",
    "    print(f\"Train Loss: {train_loss:.4f}, Train Accuracy: {train_accuracy:.4f}\")\n",
    "\n",
    "    # Evaluation\n",
    "    val_loss, val_accuracy, val_f1, val_report = evaluate(model, val_dataloader, criterion)\n",
    "    val_losses.append(val_loss)\n",
    "    val_accuracies.append(val_accuracy)\n",
    "    print(f\"Validation Loss: {val_loss:.4f}, Validation Accuracy: {val_accuracy:.4f}, F1 Score: {val_f1:.4f}\")\n",
    "    print(\"Classification Report:\\n\", val_report)\n",
    "\n",
    "fig, ax1 = plt.subplots(figsize=(10, 5))\n",
    "\n",
    "# loss graph\n",
    "ax1.plot(range(1, num_epochs + 1), train_losses, label=\"Train Loss\", color=\"blue\", marker=\"o\")\n",
    "ax1.plot(range(1, num_epochs + 1), val_losses, label=\"Validation Loss\", color=\"red\", marker=\"o\")\n",
    "ax1.set_xlabel(\"Epoch\")\n",
    "ax1.set_ylabel(\"Loss\")\n",
    "ax1.set_title(\"Train & Validation Loss\")\n",
    "ax1.legend()\n",
    "ax1.grid()\n",
    "\n",
    "plt.show()\n",
    "\n",
    "# accuracy graph\n",
    "fig, ax2 = plt.subplots(figsize=(10, 5))\n",
    "ax2.plot(range(1, num_epochs + 1), train_accuracies, label=\"Train Accuracy\", color=\"blue\", marker=\"o\")\n",
    "ax2.plot(range(1, num_epochs + 1), val_accuracies, label=\"Validation Accuracy\", color=\"red\", marker=\"o\")\n",
    "ax2.set_xlabel(\"Epoch\")\n",
    "ax2.set_ylabel(\"Accuracy\")\n",
    "ax2.set_title(\"Train & Validation Accuracy\")\n",
    "ax2.legend()\n",
    "ax2.grid()\n",
    "\n",
    "plt.show()"
   ]
  },
  {
   "cell_type": "code",
   "execution_count": null,
   "id": "1720b2bc",
   "metadata": {},
   "outputs": [],
   "source": [
    "# splited testset test"
   ]
  },
  {
   "cell_type": "code",
   "execution_count": 272,
   "id": "ce3d5131",
   "metadata": {},
   "outputs": [],
   "source": [
    "test_df\n",
    "test_df['conversation'] = test_df['conversation'].apply(preprocess_sentence)\n",
    "test_df  = pd.DataFrame(test_df)\n",
    "\n",
    "X = test_df['conversation']\n",
    "y = test_df['class']"
   ]
  },
  {
   "cell_type": "code",
   "execution_count": 273,
   "id": "b5922c33",
   "metadata": {},
   "outputs": [],
   "source": [
    "inputs, labels = encode_data(X.tolist(), y.tolist())\n",
    "dataset = torch.utils.data.TensorDataset(inputs, labels)\n",
    "test_dataloader = DataLoader(dataset, batch_size=8, shuffle=True)"
   ]
  },
  {
   "cell_type": "code",
   "execution_count": 274,
   "id": "5246c2ce",
   "metadata": {},
   "outputs": [],
   "source": [
    "import torch\n",
    "from sklearn.metrics import f1_score, classification_report\n",
    "\n",
    "device = torch.device(\"cuda\" if torch.cuda.is_available() else \"cpu\")\n",
    "\n",
    "def evaluate(model, dataloader, criterion, device=device):\n",
    "    model.eval() \n",
    "    model.to(device)  \n",
    "    total_loss = 0\n",
    "    correct_preds = 0\n",
    "    total_preds = 0\n",
    "    all_labels = []\n",
    "    all_preds = []\n",
    "    \n",
    "    with torch.no_grad():\n",
    "        for batch in tqdm(val_dataloader, desc=\"Evaluating\"):\n",
    "            inputs, labels = batch\n",
    "            inputs = inputs.to(device)\n",
    "            labels = labels.to(device)\n",
    "\n",
    "            outputs = model(inputs)\n",
    "            logits = outputs.logits\n",
    "            loss = criterion(logits, labels)\n",
    "\n",
    "            total_loss += loss.item()\n",
    "\n",
    "            preds = logits.argmax(dim=-1)\n",
    "            correct_preds += (preds == labels).sum().item()\n",
    "            total_preds += labels.size(0)\n",
    "\n",
    "            all_labels.extend(labels.cpu().numpy())\n",
    "            all_preds.extend(preds.cpu().numpy())\n",
    "\n",
    "    avg_loss = total_loss / len(val_dataloader)\n",
    "    accuracy = correct_preds / total_preds\n",
    "    f1 = f1_score(all_labels, all_preds, average='weighted')\n",
    "    \n",
    "    return avg_loss, accuracy, f1, classification_report(all_labels, all_preds)"
   ]
  },
  {
   "cell_type": "code",
   "execution_count": 275,
   "id": "c29434d9",
   "metadata": {},
   "outputs": [
    {
     "name": "stderr",
     "output_type": "stream",
     "text": [
      "Evaluating: 100%|██████████| 915/915 [00:56<00:00, 16.14it/s]\n"
     ]
    },
    {
     "name": "stdout",
     "output_type": "stream",
     "text": [
      "Loss: 0.0244\n",
      "Accuracy: 0.9925\n",
      "F1 Score: 0.9925\n",
      "Classification Report:\n",
      "               precision    recall  f1-score   support\n",
      "\n",
      "           0       0.99      0.97      0.98       865\n",
      "           1       0.99      0.98      0.98       933\n",
      "           2       0.99      1.00      0.99       914\n",
      "           3       0.98      0.99      0.98       964\n",
      "           4       1.00      1.00      1.00      3644\n",
      "\n",
      "    accuracy                           0.99      7320\n",
      "   macro avg       0.99      0.99      0.99      7320\n",
      "weighted avg       0.99      0.99      0.99      7320\n",
      "\n"
     ]
    }
   ],
   "source": [
    "avg_loss, accuracy, f1, report = evaluate(model, test_dataloader, criterion)\n",
    "\n",
    "print(f\"Loss: {avg_loss:.4f}\")\n",
    "print(f\"Accuracy: {accuracy:.4f}\")\n",
    "print(f\"F1 Score: {f1:.4f}\")\n",
    "print(\"Classification Report:\\n\", report)"
   ]
  },
  {
   "cell_type": "code",
   "execution_count": null,
   "id": "3ab34c84",
   "metadata": {},
   "outputs": [],
   "source": [
    "#실제테스트"
   ]
  },
  {
   "cell_type": "code",
   "execution_count": null,
   "id": "4efd2ee9",
   "metadata": {},
   "outputs": [],
   "source": [
    "testset\n",
    "testset['text'] = testset['text'].apply(preprocess_sentence)\n",
    "testset  = pd.DataFrame(testset)\n",
    "X = testset['text']"
   ]
  },
  {
   "cell_type": "code",
   "execution_count": null,
   "id": "d020bb0e",
   "metadata": {},
   "outputs": [],
   "source": [
    "# device = torch.device(\"cuda\" if torch.cuda.is_available() else \"cpu\")\n",
    "model.to('cpu')\n",
    "\n",
    "texts = X.tolist()\n",
    "inputs = tokenizer(texts, padding=True, truncation=True, return_tensors=\"pt\", max_length=128)\n",
    "\n",
    "\n",
    "inputs_updated = {}\n",
    "for key, value in inputs.items():\n",
    "#     inputs_updated[key] = value.to(device)\n",
    "    inputs_updated[key] = value.to('cpu')\n",
    "\n",
    "with torch.no_grad():\n",
    "    outputs = model(\n",
    "        input_ids=inputs_updated[\"input_ids\"],\n",
    "        token_type_ids=inputs_updated[\"token_type_ids\"],\n",
    "        attention_mask=inputs_updated[\"attention_mask\"]\n",
    "    )\n",
    "\n",
    "# inputs = {key: value.to(device) for key, value in inputs.items()}\n",
    "# with torch.no_grad():\n",
    "#     outputs = model(**inputs)\n",
    "\n",
    "predictions = torch.argmax(outputs.logits, dim=1)\n",
    "print(predictions)"
   ]
  },
  {
   "cell_type": "code",
   "execution_count": null,
   "id": "0ac11d25",
   "metadata": {},
   "outputs": [],
   "source": [
    "import pandas as pd\n",
    "import json\n",
    "\n",
    "output_dict = {}\n",
    "\n",
    "for idx, pred in enumerate(predictions):\n",
    "    # 예측된 클래스 인덱스를 문자로 변환 (예: '01', '02', ...)\n",
    "    class_id = f\"{pred.item():02d}\"\n",
    "    key = f\"t_{idx:03d}\"\n",
    "    \n",
    "    output_dict[key] = {\"class\": class_id}\n",
    "\n",
    "df_new = pd.DataFrame.from_dict(output_dict, orient='index')\n",
    "df_new['target'] = df_new['class'].apply(lambda x: int(x))  # 'class'를 정수형으로 변환\n",
    "df_new['idx'] = df_new.index\n",
    "\n",
    "df_new = df_new[['idx', 'target']]\n",
    "\n",
    "output_path = \"/aiffel/aiffel/DLthon/result_Feb20_KoElectra-v3_10epoch.csv\" \n",
    "df_new.to_csv(output_path, index=False, header=True, encoding='utf-8') \n",
    "\n",
    "df_new.head()"
   ]
  },
  {
   "cell_type": "code",
   "execution_count": null,
   "id": "954f3985",
   "metadata": {},
   "outputs": [],
   "source": []
  },
  {
   "cell_type": "markdown",
   "id": "f9ef77a0",
   "metadata": {},
   "source": [
    "### Small model"
   ]
  },
  {
   "cell_type": "code",
   "execution_count": 25,
   "id": "5aabe64f",
   "metadata": {},
   "outputs": [
    {
     "name": "stderr",
     "output_type": "stream",
     "text": [
      "Some weights of the model checkpoint at monologg/koelectra-small-discriminator were not used when initializing ElectraForSequenceClassification: ['discriminator_predictions.dense.bias', 'discriminator_predictions.dense_prediction.bias', 'discriminator_predictions.dense.weight', 'discriminator_predictions.dense_prediction.weight']\n",
      "- This IS expected if you are initializing ElectraForSequenceClassification from the checkpoint of a model trained on another task or with another architecture (e.g. initializing a BertForSequenceClassification model from a BertForPreTraining model).\n",
      "- This IS NOT expected if you are initializing ElectraForSequenceClassification from the checkpoint of a model that you expect to be exactly identical (initializing a BertForSequenceClassification model from a BertForSequenceClassification model).\n",
      "Some weights of ElectraForSequenceClassification were not initialized from the model checkpoint at monologg/koelectra-small-discriminator and are newly initialized: ['classifier.dense.bias', 'classifier.out_proj.weight', 'classifier.dense.weight', 'classifier.out_proj.bias']\n",
      "You should probably TRAIN this model on a down-stream task to be able to use it for predictions and inference.\n",
      "Some weights of the model checkpoint at monologg/koelectra-small-discriminator were not used when initializing ElectraForSequenceClassification: ['discriminator_predictions.dense.bias', 'discriminator_predictions.dense_prediction.bias', 'discriminator_predictions.dense.weight', 'discriminator_predictions.dense_prediction.weight']\n",
      "- This IS expected if you are initializing ElectraForSequenceClassification from the checkpoint of a model trained on another task or with another architecture (e.g. initializing a BertForSequenceClassification model from a BertForPreTraining model).\n",
      "- This IS NOT expected if you are initializing ElectraForSequenceClassification from the checkpoint of a model that you expect to be exactly identical (initializing a BertForSequenceClassification model from a BertForSequenceClassification model).\n",
      "Some weights of ElectraForSequenceClassification were not initialized from the model checkpoint at monologg/koelectra-small-discriminator and are newly initialized: ['classifier.dense.bias', 'classifier.out_proj.weight', 'classifier.dense.weight', 'classifier.out_proj.bias']\n",
      "You should probably TRAIN this model on a down-stream task to be able to use it for predictions and inference.\n"
     ]
    }
   ],
   "source": [
    "# Electra small \n",
    "model_name = \"monologg/koelectra-small-discriminator\"\n",
    "model = ElectraForSequenceClassification.from_pretrained(model_name, num_labels=5)\n",
    "\n",
    "tokenizer = ElectraTokenizer.from_pretrained(model_name)\n",
    "model = ElectraForSequenceClassification.from_pretrained(model_name, num_labels=5)\n",
    "device = torch.device(\"cuda\" if torch.cuda.is_available() else \"cpu\")\n",
    "model.to(device)\n",
    " \n",
    "optimizer = torch.optim.AdamW(model.parameters(), lr=2e-5) # 3e-5, 4e-5\n",
    "criterion = torch.nn.CrossEntropyLoss()"
   ]
  },
  {
   "cell_type": "code",
   "execution_count": 26,
   "id": "c59b150b",
   "metadata": {},
   "outputs": [],
   "source": [
    "for param in model.parameters():\n",
    "    param.requires_grad = False\n",
    "\n",
    "for param in model.electra.encoder.layer[-6].parameters():  # 마지막 1개 레이어\n",
    "    param.requires_grad = True\n",
    "\n",
    "for param in model.classifier.parameters():  # classifier 레이어\n",
    "    param.requires_grad = True"
   ]
  },
  {
   "cell_type": "code",
   "execution_count": 47,
   "id": "03ed4a7d",
   "metadata": {},
   "outputs": [
    {
     "name": "stdout",
     "output_type": "stream",
     "text": [
      "학습 파라미터 수: 856837\n"
     ]
    }
   ],
   "source": [
    "def count_train_param(model):\n",
    "    trainable_params = 0\n",
    "    for p in model.parameters():\n",
    "        if p.requires_grad:\n",
    "            trainable_params += p.numel()\n",
    "    return trainable_params\n",
    "\n",
    "trainable_params = count_train_param(model)\n",
    "print(f\"학습 파라미터 수: {trainable_params}\")"
   ]
  },
  {
   "cell_type": "code",
   "execution_count": 29,
   "id": "22f9f08b",
   "metadata": {},
   "outputs": [
    {
     "name": "stdout",
     "output_type": "stream",
     "text": [
      "Epoch 1/5\n"
     ]
    },
    {
     "name": "stderr",
     "output_type": "stream",
     "text": [
      "Training: 100%|██████████| 4576/4576 [01:46<00:00, 43.01it/s]\n"
     ]
    },
    {
     "name": "stdout",
     "output_type": "stream",
     "text": [
      "Train Loss: 0.7911, Train Accuracy: 0.6308\n"
     ]
    },
    {
     "name": "stderr",
     "output_type": "stream",
     "text": [
      "Evaluating: 100%|██████████| 915/915 [00:11<00:00, 80.71it/s]\n"
     ]
    },
    {
     "name": "stdout",
     "output_type": "stream",
     "text": [
      "Validation Loss: 0.6696, Validation Accuracy: 0.6764, F1 Score: 0.6687\n",
      "Classification Report:\n",
      "               precision    recall  f1-score   support\n",
      "\n",
      "           0       0.36      0.55      0.43       865\n",
      "           1       0.33      0.48      0.40       933\n",
      "           2       0.50      0.22      0.31       914\n",
      "           3       0.32      0.20      0.24       964\n",
      "           4       1.00      1.00      1.00      3644\n",
      "\n",
      "    accuracy                           0.68      7320\n",
      "   macro avg       0.50      0.49      0.48      7320\n",
      "weighted avg       0.69      0.68      0.67      7320\n",
      "\n",
      "Epoch 2/5\n"
     ]
    },
    {
     "name": "stderr",
     "output_type": "stream",
     "text": [
      "Training: 100%|██████████| 4576/4576 [01:43<00:00, 44.25it/s]\n"
     ]
    },
    {
     "name": "stdout",
     "output_type": "stream",
     "text": [
      "Train Loss: 0.5376, Train Accuracy: 0.7762\n"
     ]
    },
    {
     "name": "stderr",
     "output_type": "stream",
     "text": [
      "Evaluating: 100%|██████████| 915/915 [00:11<00:00, 81.98it/s]\n"
     ]
    },
    {
     "name": "stdout",
     "output_type": "stream",
     "text": [
      "Validation Loss: 0.3712, Validation Accuracy: 0.8597, F1 Score: 0.8582\n",
      "Classification Report:\n",
      "               precision    recall  f1-score   support\n",
      "\n",
      "           0       0.71      0.78      0.74       865\n",
      "           1       0.69      0.66      0.67       933\n",
      "           2       0.77      0.88      0.82       914\n",
      "           3       0.71      0.60      0.65       964\n",
      "           4       1.00      0.99      1.00      3644\n",
      "\n",
      "    accuracy                           0.86      7320\n",
      "   macro avg       0.78      0.78      0.78      7320\n",
      "weighted avg       0.86      0.86      0.86      7320\n",
      "\n",
      "Epoch 3/5\n"
     ]
    },
    {
     "name": "stderr",
     "output_type": "stream",
     "text": [
      "Training: 100%|██████████| 4576/4576 [01:43<00:00, 44.31it/s]\n"
     ]
    },
    {
     "name": "stdout",
     "output_type": "stream",
     "text": [
      "Train Loss: 0.3248, Train Accuracy: 0.8807\n"
     ]
    },
    {
     "name": "stderr",
     "output_type": "stream",
     "text": [
      "Evaluating: 100%|██████████| 915/915 [00:11<00:00, 80.84it/s]\n"
     ]
    },
    {
     "name": "stdout",
     "output_type": "stream",
     "text": [
      "Validation Loss: 0.2564, Validation Accuracy: 0.9107, F1 Score: 0.9098\n",
      "Classification Report:\n",
      "               precision    recall  f1-score   support\n",
      "\n",
      "           0       0.78      0.89      0.83       865\n",
      "           1       0.77      0.86      0.82       933\n",
      "           2       0.92      0.91      0.91       914\n",
      "           3       0.84      0.66      0.74       964\n",
      "           4       1.00      0.99      1.00      3644\n",
      "\n",
      "    accuracy                           0.91      7320\n",
      "   macro avg       0.86      0.86      0.86      7320\n",
      "weighted avg       0.91      0.91      0.91      7320\n",
      "\n",
      "Epoch 4/5\n"
     ]
    },
    {
     "name": "stderr",
     "output_type": "stream",
     "text": [
      "Training: 100%|██████████| 4576/4576 [01:43<00:00, 44.30it/s]\n"
     ]
    },
    {
     "name": "stdout",
     "output_type": "stream",
     "text": [
      "Train Loss: 0.2304, Train Accuracy: 0.9173\n"
     ]
    },
    {
     "name": "stderr",
     "output_type": "stream",
     "text": [
      "Evaluating: 100%|██████████| 915/915 [00:11<00:00, 82.32it/s]\n"
     ]
    },
    {
     "name": "stdout",
     "output_type": "stream",
     "text": [
      "Validation Loss: 0.1913, Validation Accuracy: 0.9342, F1 Score: 0.9337\n",
      "Classification Report:\n",
      "               precision    recall  f1-score   support\n",
      "\n",
      "           0       0.80      0.93      0.86       865\n",
      "           1       0.84      0.88      0.86       933\n",
      "           2       0.95      0.94      0.95       914\n",
      "           3       0.90      0.74      0.81       964\n",
      "           4       1.00      1.00      1.00      3644\n",
      "\n",
      "    accuracy                           0.93      7320\n",
      "   macro avg       0.90      0.90      0.90      7320\n",
      "weighted avg       0.94      0.93      0.93      7320\n",
      "\n",
      "Epoch 5/5\n"
     ]
    },
    {
     "name": "stderr",
     "output_type": "stream",
     "text": [
      "Training: 100%|██████████| 4576/4576 [01:43<00:00, 44.31it/s]\n"
     ]
    },
    {
     "name": "stdout",
     "output_type": "stream",
     "text": [
      "Train Loss: 0.1799, Train Accuracy: 0.9368\n"
     ]
    },
    {
     "name": "stderr",
     "output_type": "stream",
     "text": [
      "Evaluating: 100%|██████████| 915/915 [00:12<00:00, 75.84it/s]\n"
     ]
    },
    {
     "name": "stdout",
     "output_type": "stream",
     "text": [
      "Validation Loss: 0.1800, Validation Accuracy: 0.9378, F1 Score: 0.9379\n",
      "Classification Report:\n",
      "               precision    recall  f1-score   support\n",
      "\n",
      "           0       0.77      0.96      0.85       865\n",
      "           1       0.86      0.90      0.88       933\n",
      "           2       0.98      0.94      0.96       914\n",
      "           3       0.92      0.75      0.83       964\n",
      "           4       1.00      0.99      1.00      3644\n",
      "\n",
      "    accuracy                           0.94      7320\n",
      "   macro avg       0.91      0.91      0.90      7320\n",
      "weighted avg       0.94      0.94      0.94      7320\n",
      "\n"
     ]
    },
    {
     "data": {
      "image/png": "[encoded data removed]",
      "text/plain": [
       "<Figure size 720x360 with 1 Axes>"
      ]
     },
     "metadata": {
      "needs_background": "light"
     },
     "output_type": "display_data"
    },
    {
     "data": {
      "image/png": "[encoded data removed]",
      "text/plain": [
       "<Figure size 720x360 with 1 Axes>"
      ]
     },
     "metadata": {
      "needs_background": "light"
     },
     "output_type": "display_data"
    }
   ],
   "source": [
    "#Train & Evaluation\n",
    "import matplotlib.pyplot as plt\n",
    "\n",
    "train_losses = []\n",
    "train_accuracies = []\n",
    "val_losses = []\n",
    "val_accuracies = []\n",
    "\n",
    "num_epochs = 5  \n",
    "\n",
    "for epoch in range(num_epochs):\n",
    "    print(f\"Epoch {epoch + 1}/{num_epochs}\")\n",
    "    \n",
    "    # Training\n",
    "    train_loss, train_accuracy = train(model, train_dataloader, optimizer, criterion)\n",
    "    train_losses.append(train_loss)\n",
    "    train_accuracies.append(train_accuracy)\n",
    "    print(f\"Train Loss: {train_loss:.4f}, Train Accuracy: {train_accuracy:.4f}\")\n",
    "\n",
    "    # Evaluation\n",
    "    val_loss, val_accuracy, val_f1, val_report = evaluate(model, val_dataloader, criterion)\n",
    "    val_losses.append(val_loss)\n",
    "    val_accuracies.append(val_accuracy)\n",
    "    print(f\"Validation Loss: {val_loss:.4f}, Validation Accuracy: {val_accuracy:.4f}, F1 Score: {val_f1:.4f}\")\n",
    "    print(\"Classification Report:\\n\", val_report)\n",
    "\n",
    "fig, ax1 = plt.subplots(figsize=(10, 5))\n",
    "\n",
    "# loss graph\n",
    "ax1.plot(range(1, num_epochs + 1), train_losses, label=\"Train Loss\", color=\"blue\", marker=\"o\")\n",
    "ax1.plot(range(1, num_epochs + 1), val_losses, label=\"Validation Loss\", color=\"red\", marker=\"o\")\n",
    "ax1.set_xlabel(\"Epoch\")\n",
    "ax1.set_ylabel(\"Loss\")\n",
    "ax1.set_title(\"Train & Validation Loss\")\n",
    "ax1.legend()\n",
    "ax1.grid()\n",
    "\n",
    "plt.show()\n",
    "\n",
    "# accuracy graph\n",
    "fig, ax2 = plt.subplots(figsize=(10, 5))\n",
    "ax2.plot(range(1, num_epochs + 1), train_accuracies, label=\"Train Accuracy\", color=\"blue\", marker=\"o\")\n",
    "ax2.plot(range(1, num_epochs + 1), val_accuracies, label=\"Validation Accuracy\", color=\"red\", marker=\"o\")\n",
    "ax2.set_xlabel(\"Epoch\")\n",
    "ax2.set_ylabel(\"Accuracy\")\n",
    "ax2.set_title(\"Train & Validation Accuracy\")\n",
    "ax2.legend()\n",
    "ax2.grid()\n",
    "\n",
    "plt.show()"
   ]
  },
  {
   "cell_type": "code",
   "execution_count": 30,
   "id": "8548b31e",
   "metadata": {},
   "outputs": [],
   "source": [
    "testset\n",
    "testset['text'] = testset['text'].apply(preprocess_sentence)\n",
    "testset  = pd.DataFrame(testset)\n",
    "X = testset['text']"
   ]
  },
  {
   "cell_type": "code",
   "execution_count": 31,
   "id": "8cecac77",
   "metadata": {},
   "outputs": [
    {
     "name": "stdout",
     "output_type": "stream",
     "text": [
      "tensor([1, 2, 0, 3, 0, 0, 0, 1, 4, 1, 0, 3, 2, 2, 2, 0, 0, 3, 0, 0, 0, 0, 0, 1,\n",
      "        1, 2, 0, 3, 2, 0, 1, 0, 3, 1, 0, 1, 1, 0, 0, 1, 0, 1, 2, 1, 4, 2, 0, 0,\n",
      "        4, 0, 1, 3, 0, 2, 2, 1, 0, 4, 3, 0, 1, 3, 0, 0, 2, 0, 3, 0, 0, 0, 0, 2,\n",
      "        3, 2, 0, 2, 0, 1, 3, 0, 0, 0, 0, 0, 0, 0, 0, 3, 1, 2, 0, 2, 0, 4, 3, 2,\n",
      "        0, 2, 0, 2, 1, 1, 3, 0, 0, 2, 2, 0, 3, 0, 0, 0, 0, 2, 1, 1, 3, 2, 2, 1,\n",
      "        0, 1, 0, 1, 1, 1, 1, 0, 1, 0, 3, 3, 2, 3, 1, 0, 0, 0, 0, 3, 0, 3, 0, 3,\n",
      "        0, 0, 0, 0, 0, 1, 0, 0, 0, 0, 0, 3, 0, 2, 3, 0, 0, 3, 0, 0, 2, 3, 2, 4,\n",
      "        0, 1, 0, 2, 2, 0, 1, 3, 0, 2, 0, 0, 2, 0, 1, 2, 0, 0, 3, 0, 1, 0, 0, 0,\n",
      "        1, 0, 1, 0, 0, 0, 0, 0, 2, 0, 3, 0, 0, 0, 2, 0, 2, 2, 0, 1, 0, 2, 1, 3,\n",
      "        3, 4, 0, 0, 1, 4, 0, 0, 0, 4, 1, 0, 0, 0, 2, 0, 0, 1, 0, 3, 0, 1, 0, 0,\n",
      "        0, 3, 3, 2, 3, 1, 2, 1, 2, 0, 0, 0, 0, 0, 2, 1, 0, 2, 1, 2, 1, 0, 0, 3,\n",
      "        2, 0, 0, 0, 0, 1, 0, 0, 0, 2, 1, 2, 2, 3, 0, 2, 1, 0, 0, 2, 0, 2, 0, 2,\n",
      "        0, 3, 1, 0, 0, 3, 2, 0, 4, 0, 1, 0, 0, 0, 0, 2, 1, 1, 0, 0, 1, 2, 2, 1,\n",
      "        0, 0, 2, 3, 0, 3, 3, 0, 2, 0, 0, 1, 1, 1, 1, 0, 2, 3, 0, 0, 0, 1, 1, 0,\n",
      "        3, 0, 4, 3, 0, 2, 0, 0, 0, 2, 3, 1, 0, 0, 0, 3, 1, 1, 1, 3, 3, 3, 0, 0,\n",
      "        0, 3, 1, 0, 2, 0, 0, 2, 0, 1, 1, 3, 0, 2, 2, 1, 1, 0, 1, 0, 2, 0, 2, 2,\n",
      "        3, 1, 0, 0, 0, 0, 0, 0, 1, 2, 1, 0, 0, 0, 0, 0, 0, 0, 2, 2, 3, 0, 2, 3,\n",
      "        2, 0, 0, 3, 0, 2, 3, 0, 0, 3, 0, 0, 0, 0, 0, 3, 3, 1, 1, 2, 2, 0, 0, 3,\n",
      "        1, 0, 1, 0, 0, 0, 0, 2, 0, 0, 2, 0, 0, 2, 0, 2, 2, 0, 0, 0, 2, 0, 2, 0,\n",
      "        2, 2, 1, 0, 0, 0, 2, 2, 2, 1, 3, 2, 0, 0, 2, 1, 0, 3, 0, 2, 1, 0, 3, 2,\n",
      "        4, 3, 1, 0, 1, 3, 1, 4, 0, 0, 0, 1, 0, 1, 0, 2, 3, 1, 2, 0])\n"
     ]
    }
   ],
   "source": [
    "# device = torch.device(\"cuda\" if torch.cuda.is_available() else \"cpu\")\n",
    "model.to('cpu')\n",
    "\n",
    "texts = X.tolist()\n",
    "inputs = tokenizer(texts, padding=True, truncation=True, return_tensors=\"pt\", max_length=128)\n",
    "\n",
    "\n",
    "inputs_updated = {}\n",
    "for key, value in inputs.items():\n",
    "#     inputs_updated[key] = value.to(device)\n",
    "    inputs_updated[key] = value.to('cpu')\n",
    "\n",
    "with torch.no_grad():\n",
    "    outputs = model(\n",
    "        input_ids=inputs_updated[\"input_ids\"],\n",
    "        token_type_ids=inputs_updated[\"token_type_ids\"],\n",
    "        attention_mask=inputs_updated[\"attention_mask\"]\n",
    "    )\n",
    "\n",
    "# inputs = {key: value.to(device) for key, value in inputs.items()}\n",
    "# with torch.no_grad():\n",
    "#     outputs = model(**inputs)\n",
    "\n",
    "predictions = torch.argmax(outputs.logits, dim=1)\n",
    "print(predictions)"
   ]
  },
  {
   "cell_type": "code",
   "execution_count": 45,
   "id": "58e5ebbb",
   "metadata": {},
   "outputs": [
    {
     "data": {
      "text/html": [
       "<div>\n",
       "<style scoped>\n",
       "    .dataframe tbody tr th:only-of-type {\n",
       "        vertical-align: middle;\n",
       "    }\n",
       "\n",
       "    .dataframe tbody tr th {\n",
       "        vertical-align: top;\n",
       "    }\n",
       "\n",
       "    .dataframe thead th {\n",
       "        text-align: right;\n",
       "    }\n",
       "</style>\n",
       "<table border=\"1\" class=\"dataframe\">\n",
       "  <thead>\n",
       "    <tr style=\"text-align: right;\">\n",
       "      <th></th>\n",
       "      <th>idx</th>\n",
       "      <th>target</th>\n",
       "    </tr>\n",
       "  </thead>\n",
       "  <tbody>\n",
       "    <tr>\n",
       "      <th>t_000</th>\n",
       "      <td>t_000</td>\n",
       "      <td>1</td>\n",
       "    </tr>\n",
       "    <tr>\n",
       "      <th>t_001</th>\n",
       "      <td>t_001</td>\n",
       "      <td>2</td>\n",
       "    </tr>\n",
       "    <tr>\n",
       "      <th>t_002</th>\n",
       "      <td>t_002</td>\n",
       "      <td>0</td>\n",
       "    </tr>\n",
       "    <tr>\n",
       "      <th>t_003</th>\n",
       "      <td>t_003</td>\n",
       "      <td>3</td>\n",
       "    </tr>\n",
       "    <tr>\n",
       "      <th>t_004</th>\n",
       "      <td>t_004</td>\n",
       "      <td>0</td>\n",
       "    </tr>\n",
       "  </tbody>\n",
       "</table>\n",
       "</div>"
      ],
      "text/plain": [
       "         idx  target\n",
       "t_000  t_000       1\n",
       "t_001  t_001       2\n",
       "t_002  t_002       0\n",
       "t_003  t_003       3\n",
       "t_004  t_004       0"
      ]
     },
     "execution_count": 45,
     "metadata": {},
     "output_type": "execute_result"
    }
   ],
   "source": [
    "import pandas as pd\n",
    "import json\n",
    "\n",
    "output_dict = {}\n",
    "\n",
    "for idx, pred in enumerate(predictions):\n",
    "    # 예측된 클래스 인덱스를 문자로 변환 (예: '01', '02', ...)\n",
    "    class_id = f\"{pred.item():02d}\"\n",
    "    key = f\"t_{idx:03d}\"\n",
    "    \n",
    "    output_dict[key] = {\"class\": class_id}\n",
    "\n",
    "df_new = pd.DataFrame.from_dict(output_dict, orient='index')\n",
    "df_new['target'] = df_new['class'].apply(lambda x: int(x))  # 'class'를 정수형으로 변환\n",
    "df_new['idx'] = df_new.index\n",
    "\n",
    "df_new = df_new[['idx', 'target']]\n",
    "\n",
    "output_path = f\"/aiffel/aiffel/DLthon/{model_name.split()[-1]}.csv\" \n",
    "df_new.to_csv(output_path, index=False, header=True, encoding='utf-8') \n",
    "\n",
    "df_new.head()"
   ]
  },
  {
   "cell_type": "code",
   "execution_count": 41,
   "id": "d52ae647",
   "metadata": {},
   "outputs": [],
   "source": [
    "# DataLoader를 다른방식으로 처리해보기 train acc, train val curve "
   ]
  },
  {
   "cell_type": "code",
   "execution_count": null,
   "id": "cc8aadd0",
   "metadata": {},
   "outputs": [],
   "source": []
  }
 ],
 "metadata": {
  "kernelspec": {
   "display_name": "Python 3 (ipykernel)",
   "language": "python",
   "name": "python3"
  },
  "language_info": {
   "codemirror_mode": {
    "name": "ipython",
    "version": 3
   },
   "file_extension": ".py",
   "mimetype": "text/x-python",
   "name": "python",
   "nbconvert_exporter": "python",
   "pygments_lexer": "ipython3",
   "version": "3.9.7"
  }
 },
 "nbformat": 4,
 "nbformat_minor": 5
}
